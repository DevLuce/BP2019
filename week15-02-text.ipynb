{
 "cells": [
  {
   "cell_type": "code",
   "execution_count": 1,
   "metadata": {},
   "outputs": [],
   "source": [
    "# !pip install jpype1\n",
    "# !pip install konlpy\n",
    "\n",
    "# !pip install simplejson\n",
    "# !pip install pygame\n",
    "# !pip install pytagcloud "
   ]
  },
  {
   "cell_type": "code",
   "execution_count": 2,
   "metadata": {},
   "outputs": [
    {
     "name": "stdout",
     "output_type": "stream",
     "text": [
      "pygame 1.9.6\n",
      "Hello from the pygame community. https://www.pygame.org/contribute.html\n"
     ]
    }
   ],
   "source": [
    "import pandas as pd\n",
    "from datetime import datetime\n",
    "import pytagcloud \n",
    "from collections import Counter\n"
   ]
  },
  {
   "cell_type": "markdown",
   "metadata": {},
   "source": [
    "## 앞선 크롤링한 뉴스의 컨텐트를 텍스트 분석"
   ]
  },
  {
   "cell_type": "code",
   "execution_count": 3,
   "metadata": {},
   "outputs": [],
   "source": [
    "df = pd.read_csv('news_contents.csv')"
   ]
  },
  {
   "cell_type": "code",
   "execution_count": 4,
   "metadata": {},
   "outputs": [
    {
     "data": {
      "text/html": [
       "<div>\n",
       "<style scoped>\n",
       "    .dataframe tbody tr th:only-of-type {\n",
       "        vertical-align: middle;\n",
       "    }\n",
       "\n",
       "    .dataframe tbody tr th {\n",
       "        vertical-align: top;\n",
       "    }\n",
       "\n",
       "    .dataframe thead th {\n",
       "        text-align: right;\n",
       "    }\n",
       "</style>\n",
       "<table border=\"1\" class=\"dataframe\">\n",
       "  <thead>\n",
       "    <tr style=\"text-align: right;\">\n",
       "      <th></th>\n",
       "      <th>Unnamed: 0</th>\n",
       "      <th>addr</th>\n",
       "      <th>text</th>\n",
       "      <th>content</th>\n",
       "    </tr>\n",
       "  </thead>\n",
       "  <tbody>\n",
       "    <tr>\n",
       "      <td>0</td>\n",
       "      <td>0</td>\n",
       "      <td>https://news.naver.com/main/read.nhn?mode=LSD&amp;...</td>\n",
       "      <td>민주당 중진 원혜영·백재현 불출마선언…물갈이론엔 선 그…</td>\n",
       "      <td>원 “싸우더라도 국회 열고 싸워라”백 “물고기만 바꿨지, 물은 못 바꿔”  원혜...</td>\n",
       "    </tr>\n",
       "    <tr>\n",
       "      <td>1</td>\n",
       "      <td>1</td>\n",
       "      <td>https://news.naver.com/main/read.nhn?mode=LSD&amp;...</td>\n",
       "      <td>반환 미군기지 정화 비용 1140억…한국의 방위비 협상 카…</td>\n",
       "      <td>정부, 선 부담한 뒤 미국에 청구 계획“한국 무기 더 사면 분담금 낮출 수도”미...</td>\n",
       "    </tr>\n",
       "  </tbody>\n",
       "</table>\n",
       "</div>"
      ],
      "text/plain": [
       "   Unnamed: 0                                               addr  \\\n",
       "0           0  https://news.naver.com/main/read.nhn?mode=LSD&...   \n",
       "1           1  https://news.naver.com/main/read.nhn?mode=LSD&...   \n",
       "\n",
       "                                text  \\\n",
       "0    민주당 중진 원혜영·백재현 불출마선언…물갈이론엔 선 그…   \n",
       "1  반환 미군기지 정화 비용 1140억…한국의 방위비 협상 카…   \n",
       "\n",
       "                                             content  \n",
       "0    원 “싸우더라도 국회 열고 싸워라”백 “물고기만 바꿨지, 물은 못 바꿔”  원혜...  \n",
       "1    정부, 선 부담한 뒤 미국에 청구 계획“한국 무기 더 사면 분담금 낮출 수도”미...  "
      ]
     },
     "execution_count": 4,
     "metadata": {},
     "output_type": "execute_result"
    }
   ],
   "source": [
    "df.head(2)"
   ]
  },
  {
   "cell_type": "code",
   "execution_count": null,
   "metadata": {},
   "outputs": [],
   "source": []
  },
  {
   "cell_type": "code",
   "execution_count": null,
   "metadata": {},
   "outputs": [],
   "source": [
    "\n"
   ]
  },
  {
   "cell_type": "code",
   "execution_count": 5,
   "metadata": {},
   "outputs": [
    {
     "name": "stdout",
     "output_type": "stream",
     "text": [
      "[('오류보고', 'N'), ('는', 'J'), ('실행환경', 'N'), (',', 'S'), ('에러메세지와함께', 'N'), ('설명', 'N'), ('을', 'J'), ('최대한상세히', 'N'), ('!', 'S'), ('^^', 'S')]\n",
      "['오류보고', '실행환경', '에러메세지와함께', '설명', '최대한상세히']\n"
     ]
    }
   ],
   "source": [
    "# 한나눔 \n",
    "from konlpy.tag import Hannanum\n",
    "nlp = Hannanum()\n",
    "\n",
    "print(nlp.pos(u'오류보고는 실행환경, 에러메세지와함께 설명을 최대한상세히!^^'))\n",
    "print(nlp.nouns(u'오류보고는 실행환경, 에러메세지와함께 설명을 최대한상세히!^^'))\n"
   ]
  },
  {
   "cell_type": "code",
   "execution_count": null,
   "metadata": {},
   "outputs": [],
   "source": []
  },
  {
   "cell_type": "code",
   "execution_count": 6,
   "metadata": {},
   "outputs": [],
   "source": [
    "tags = nlp.nouns(u'오류보고는 실행환경, 에러메세지와함께 설명을 최대한상세히!^^')"
   ]
  },
  {
   "cell_type": "code",
   "execution_count": 7,
   "metadata": {},
   "outputs": [
    {
     "data": {
      "text/plain": [
       "\"  원 “싸우더라도 국회 열고 싸워라”백 “물고기만 바꿨지, 물은 못 바꿔”  원혜영(左), 백재현(右). [연합뉴스]           “싸우더라도 국회는 열어놓고 싸워야 한다.”      원혜영(68) 더불어민주당 의원이 남긴 퇴장 메시지다. 5선의 원 의원이 11일 같은 당 백재현(3선) 의원과 함께 불출마를 공식 선언했다. 두 사람은 1951년생 동갑내기다.      원 의원은 이해찬 대표(7선), 정세균·이석현 의원(이상 6선)의 뒤를 잇는 다선 중진 의원이고, 백 의원은 민선 광명시장(2선)과 당 정책위의장을 역임한 정책통이다.      이날 원 의원은 “이번 20대 국회를 끝으로 정치 인생을 마무리하고자 한다”며 7차례의 선출직 경력(국회의원 5번, 부천시장 2번)을 되돌아봤다. 원 의원은 “18대 국회에서 (제1야당)원내대표로 활동했을 때 88일 최장기 개원 지연 기록을 세웠다. 부끄러운 일”이라고 고백했다. 그러면서 “국회가 열려야 일을 한다. 일을 하는 걸 봐야 저 국회의원이 잘하는지 못하는지, 게으른지 부지런한지 안다. (현행 국회법이) 법안소위를 월 2회 이상 개회하도록 하고 있는데 (국민이) 감독해 주셔야 한다”고 했다.      이해찬 대표와 표창원·서형수 의원에 이어 원혜영·백재현 의원이 불출마를 선언하면서 민주당 내 지역구 불출마 의원은 5명으로 늘어났다. 입각한 현역의원(진영·박영선·김현미·유은혜+추미애)까지 더하면 10명이다.      두 의원은 중진 용퇴 행렬에 동참은 하지만 ‘물갈이’가 능사는 아니라는 의견도 냈다. 원 의원은 “우리들의 이런 정치 마무리가 물갈이 재료로 쓰이는 분위기에 대해 늘 우려를 가지고 있다”면서 “국회와 정치가 물갈이를 통해 (잘) 되지 않는다고 확신한다”고 말했다. “(총선 때마다) 기본 40% 이하 물갈이가 안 된 적이 없는데 국회는 이 모양”이라는 게 원 의원의 지적이었다. 백 의원도 “물고기(의원)만 바꿨지, 물(정치문화)을 바꿔본 적이 없다”며 원 의원의 ‘물갈이 무용론’에 동의했다.      원 의원은 30세(1981년)에 ‘풀무원 식품’을 창업해서 키운 뒤 친구 남승우씨에게 회사를 넘기곤 정계에 입문했다.       심새롬 기자 saerom@joongang.co.kr  ▶ 미세먼지 없는 '숨세권' 아파트는? 먼지알지!▶ 중앙일보 '홈페이지' / '페이스북' 친구추가ⓒ중앙일보(https://joongang.co.kr), 무단 전재 및 재배포 금지   \""
      ]
     },
     "execution_count": 7,
     "metadata": {},
     "output_type": "execute_result"
    }
   ],
   "source": [
    "df['content'][0]"
   ]
  },
  {
   "cell_type": "code",
   "execution_count": 20,
   "metadata": {},
   "outputs": [],
   "source": [
    "type(df['content'])\n",
    "\n",
    "tags = []\n",
    "\n",
    "for idx, row in df.iterrows():\n",
    "    nouns = nlp.nouns(row['content'])\n",
    "    tags.extend(nouns)\n",
    "    "
   ]
  },
  {
   "cell_type": "code",
   "execution_count": 9,
   "metadata": {},
   "outputs": [],
   "source": [
    "# tags = nlp.nouns(df['content'][0])"
   ]
  },
  {
   "cell_type": "code",
   "execution_count": 22,
   "metadata": {},
   "outputs": [],
   "source": [
    "count = Counter(tags)"
   ]
  },
  {
   "cell_type": "code",
   "execution_count": 23,
   "metadata": {},
   "outputs": [],
   "source": [
    "tags2 = count.most_common(100)"
   ]
  },
  {
   "cell_type": "code",
   "execution_count": 30,
   "metadata": {},
   "outputs": [],
   "source": [
    "tags2 = list(filter(lambda x: len(x) > 1, tags2))"
   ]
  },
  {
   "cell_type": "code",
   "execution_count": 37,
   "metadata": {},
   "outputs": [],
   "source": [
    "taglist = pytagcloud.make_tags(tags2, maxsize=80)"
   ]
  },
  {
   "cell_type": "code",
   "execution_count": 38,
   "metadata": {},
   "outputs": [],
   "source": [
    "# pytagcloud.create_tag_image(taglist, 'tags.jpg', size=(600, 400), fontname='Nobile', rectangular=False)"
   ]
  },
  {
   "cell_type": "markdown",
   "metadata": {},
   "source": [
    "Python37\\Lib\\site-packages\\pytagcloud\\fonts\n",
    "\n",
    "windows\\fonts\\NanumGothic.ttf\n"
   ]
  },
  {
   "cell_type": "code",
   "execution_count": 39,
   "metadata": {},
   "outputs": [],
   "source": [
    "pytagcloud.create_tag_image(taglist, 'tags.jpg', size=(900, 600), fontname='NanumGothicExtraBold', rectangular=False)"
   ]
  },
  {
   "cell_type": "code",
   "execution_count": 40,
   "metadata": {},
   "outputs": [
    {
     "data": {
      "text/plain": [
       "True"
      ]
     },
     "execution_count": 40,
     "metadata": {},
     "output_type": "execute_result"
    }
   ],
   "source": [
    "import webbrowser\n",
    "\n",
    "webbrowser.open('tags.jpg')"
   ]
  },
  {
   "cell_type": "code",
   "execution_count": null,
   "metadata": {},
   "outputs": [],
   "source": []
  }
 ],
 "metadata": {
  "kernelspec": {
   "display_name": "Python 3",
   "language": "python",
   "name": "python3"
  },
  "language_info": {
   "codemirror_mode": {
    "name": "ipython",
    "version": 3
   },
   "file_extension": ".py",
   "mimetype": "text/x-python",
   "name": "python",
   "nbconvert_exporter": "python",
   "pygments_lexer": "ipython3",
   "version": "3.7.4"
  }
 },
 "nbformat": 4,
 "nbformat_minor": 4
}
