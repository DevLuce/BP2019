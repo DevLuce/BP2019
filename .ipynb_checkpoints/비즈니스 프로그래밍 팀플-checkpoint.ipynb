{
 "cells": [
  {
   "cell_type": "markdown",
   "metadata": {
    "colab_type": "text",
    "id": "B0meIW_LVzem"
   },
   "source": [
    "# 유튜브 펭수 영상 댓글 분석"
   ]
  },
  {
   "cell_type": "markdown",
   "metadata": {
    "colab_type": "text",
    "id": "SHrcWTq0q_5A"
   },
   "source": [
    "### 1. 웹크롤링 사전 작업"
   ]
  },
  {
   "cell_type": "code",
   "execution_count": 0,
   "metadata": {
    "colab": {
     "base_uri": "https://localhost:8080/",
     "height": 142
    },
    "colab_type": "code",
    "executionInfo": {
     "elapsed": 11741,
     "status": "ok",
     "timestamp": 1576149315152,
     "user": {
      "displayName": "JM Yon",
      "photoUrl": "https://lh3.googleusercontent.com/a-/AAuE7mDhr1v-kdkyLEFUMCID65rgNJJ6q1AcogIYDEHl=s64",
      "userId": "03205220348104841407"
     },
     "user_tz": -540
    },
    "id": "TJpEGEfU0Mfh",
    "outputId": "eeff543c-b36b-4b82-f856-4bd9c2ccd2d0"
   },
   "outputs": [
    {
     "name": "stdout",
     "output_type": "stream",
     "text": [
      "Requirement already satisfied: requests in /usr/local/lib/python3.6/dist-packages (2.21.0)\n",
      "Requirement already satisfied: idna<2.9,>=2.5 in /usr/local/lib/python3.6/dist-packages (from requests) (2.8)\n",
      "Requirement already satisfied: chardet<3.1.0,>=3.0.2 in /usr/local/lib/python3.6/dist-packages (from requests) (3.0.4)\n",
      "Requirement already satisfied: certifi>=2017.4.17 in /usr/local/lib/python3.6/dist-packages (from requests) (2019.11.28)\n",
      "Requirement already satisfied: urllib3<1.25,>=1.21.1 in /usr/local/lib/python3.6/dist-packages (from requests) (1.24.3)\n",
      "Requirement already satisfied: beautifulsoup4 in /usr/local/lib/python3.6/dist-packages (4.6.3)\n"
     ]
    }
   ],
   "source": [
    "!pip install requests\n",
    "!pip install beautifulsoup4"
   ]
  },
  {
   "cell_type": "code",
   "execution_count": 1,
   "metadata": {
    "colab": {
     "base_uri": "https://localhost:8080/",
     "height": 34
    },
    "colab_type": "code",
    "executionInfo": {
     "elapsed": 3034,
     "status": "ok",
     "timestamp": 1576826210703,
     "user": {
      "displayName": "최원혁",
      "photoUrl": "https://lh5.googleusercontent.com/-26-PCn1nnmI/AAAAAAAAAAI/AAAAAAAAACc/R-_ynN6rBTo/s64/photo.jpg",
      "userId": "11700471914794757608"
     },
     "user_tz": -540
    },
    "id": "wg0ALL2h0WR7",
    "outputId": "b3eb57f4-7d04-4818-ec4c-f79ee2de86cd"
   },
   "outputs": [
    {
     "name": "stdout",
     "output_type": "stream",
     "text": [
      "<title>[Ep.66]  화보 모델 펭수 - YouTube</title>\n"
     ]
    }
   ],
   "source": [
    "from urllib.request import urlopen\n",
    "from bs4 import BeautifulSoup\n",
    "\n",
    "# '인기업로드'에서 첫 번째 영상 \"[Ep.66]  화보 모델 펭수\"\n",
    "url = 'https://www.youtube.com/watch?v=XUM3sH1kBtw'\n",
    "html = urlopen(url)  \n",
    "\n",
    "bs = BeautifulSoup(html, \"html.parser\") \n",
    "\n",
    "# print(bs) # 해당 웹페이지 전체를 html 그대로 출력 \n",
    "print(bs.head.title)"
   ]
  },
  {
   "cell_type": "code",
   "execution_count": 2,
   "metadata": {
    "colab": {
     "base_uri": "https://localhost:8080/",
     "height": 1000
    },
    "colab_type": "code",
    "executionInfo": {
     "elapsed": 941,
     "status": "ok",
     "timestamp": 1576149411401,
     "user": {
      "displayName": "JM Yon",
      "photoUrl": "https://lh3.googleusercontent.com/a-/AAuE7mDhr1v-kdkyLEFUMCID65rgNJJ6q1AcogIYDEHl=s64",
      "userId": "03205220348104841407"
     },
     "user_tz": -540
    },
    "id": "84KRSVTz0t7R",
    "outputId": "d40c3e95-294a-4e86-94d8-3f803d2a834e"
   },
   "outputs": [
    {
     "name": "stdout",
     "output_type": "stream",
     "text": [
      "[Ep.66] 화보 모델 펭수\n",
      "펭수가 화보 모델로서 촬영을 하게 되었다! 화보 촬영을 위한 펭수의 눈물(?) 나는 노력! 그리고 현직 모델에게 직접 받는 모델 포즈까지!\n",
      "펭수, 펭, 자이언트, vpdtn, vpd, 남극, 여연희, 도수코, 장윤주, 펭tv, tv, 자이언트펭tv, 팽수, 패션, 나일론, 데싱디바, 네일, 붙이는네일, 에디터, 꺾이는 발, ebs, ebs연습생, 연습생, 슈스, 슈퍼모델, 슈퍼스타, 한혜연, 베이비, 화보, 모델, 화보촬영\n",
      "#ff0000\n",
      "YouTube\n",
      "https://www.youtube.com/watch?v=XUM3sH1kBtw\n",
      "[Ep.66] 화보 모델 펭수\n",
      "https://i.ytimg.com/vi/XUM3sH1kBtw/maxresdefault.jpg\n",
      "1280\n",
      "720\n",
      "펭수가 화보 모델로서 촬영을 하게 되었다! 화보 촬영을 위한 펭수의 눈물(?) 나는 노력! 그리고 현직 모델에게 직접 받는 모델 포즈까지!\n",
      "544007664\n",
      "YouTube\n",
      "vnd.youtube://www.youtube.com/watch?v=XUM3sH1kBtw&feature=applinks\n",
      "vnd.youtube://www.youtube.com/watch?v=XUM3sH1kBtw&feature=applinks\n",
      "YouTube\n",
      "com.google.android.youtube\n",
      "https://www.youtube.com/watch?v=XUM3sH1kBtw&feature=applinks\n",
      "video.other\n",
      "https://www.youtube.com/embed/XUM3sH1kBtw\n",
      "https://www.youtube.com/embed/XUM3sH1kBtw\n",
      "text/html\n",
      "1280\n",
      "720\n",
      "펭수\n",
      "펭\n",
      "자이언트\n",
      "vpdtn\n",
      "vpd\n",
      "남극\n",
      "여연희\n",
      "도수코\n",
      "장윤주\n",
      "펭tv\n",
      "tv\n",
      "자이언트펭tv\n",
      "팽수\n",
      "패션\n",
      "나일론\n",
      "데싱디바\n",
      "네일\n",
      "붙이는네일\n",
      "에디터\n",
      "꺾이는 발\n",
      "ebs\n",
      "ebs연습생\n",
      "연습생\n",
      "슈스\n",
      "슈퍼모델\n",
      "슈퍼스타\n",
      "한혜연\n",
      "베이비\n",
      "화보\n",
      "모델\n",
      "화보촬영\n",
      "87741124305\n",
      "player\n",
      "@youtube\n",
      "https://www.youtube.com/watch?v=XUM3sH1kBtw\n",
      "[Ep.66] 화보 모델 펭수\n",
      "펭수가 화보 모델로서 촬영을 하게 되었다! 화보 촬영을 위한 펭수의 눈물(?) 나는 노력! 그리고 현직 모델에게 직접 받는 모델 포즈까지!\n",
      "https://i.ytimg.com/vi/XUM3sH1kBtw/maxresdefault.jpg\n",
      "YouTube\n",
      "544007664\n",
      "YouTube\n",
      "544007664\n",
      "vnd.youtube://www.youtube.com/watch?v=XUM3sH1kBtw&feature=applinks\n",
      "vnd.youtube://www.youtube.com/watch?v=XUM3sH1kBtw&feature=applinks\n",
      "YouTube\n",
      "com.google.android.youtube\n",
      "https://www.youtube.com/watch?v=XUM3sH1kBtw\n",
      "https://www.youtube.com/embed/XUM3sH1kBtw\n",
      "1280\n",
      "720\n"
     ]
    }
   ],
   "source": [
    "for meta in bs.head.find_all('meta'):\n",
    "    print(meta.get('content'))\n"
   ]
  },
  {
   "cell_type": "code",
   "execution_count": 3,
   "metadata": {
    "colab": {
     "base_uri": "https://localhost:8080/",
     "height": 169
    },
    "colab_type": "code",
    "executionInfo": {
     "elapsed": 1525,
     "status": "error",
     "timestamp": 1576823705053,
     "user": {
      "displayName": "JM Yon",
      "photoUrl": "https://lh3.googleusercontent.com/a-/AAuE7mDhr1v-kdkyLEFUMCID65rgNJJ6q1AcogIYDEHl=s64",
      "userId": "03205220348104841407"
     },
     "user_tz": -540
    },
    "id": "gxICQkS702G4",
    "outputId": "57d593ef-3ccb-4e5d-a66e-37554c16e4d6"
   },
   "outputs": [],
   "source": [
    "ls=bs.body.find_all('div', {'id':'container'})"
   ]
  },
  {
   "cell_type": "code",
   "execution_count": 4,
   "metadata": {
    "colab": {
     "base_uri": "https://localhost:8080/",
     "height": 34
    },
    "colab_type": "code",
    "executionInfo": {
     "elapsed": 1425,
     "status": "ok",
     "timestamp": 1576149452657,
     "user": {
      "displayName": "JM Yon",
      "photoUrl": "https://lh3.googleusercontent.com/a-/AAuE7mDhr1v-kdkyLEFUMCID65rgNJJ6q1AcogIYDEHl=s64",
      "userId": "03205220348104841407"
     },
     "user_tz": -540
    },
    "id": "sR3KSnYU06fX",
    "outputId": "5611032d-4cfb-481b-f9ec-0a35dda3218f"
   },
   "outputs": [
    {
     "data": {
      "text/plain": [
       "[]"
      ]
     },
     "execution_count": 4,
     "metadata": {},
     "output_type": "execute_result"
    }
   ],
   "source": [
    "ls"
   ]
  },
  {
   "cell_type": "code",
   "execution_count": 5,
   "metadata": {
    "colab": {},
    "colab_type": "code",
    "id": "S6IBqL_q1AEU"
   },
   "outputs": [
    {
     "ename": "NameError",
     "evalue": "name 'browser' is not defined",
     "output_type": "error",
     "traceback": [
      "\u001b[0;31m---------------------------------------------------------------------------\u001b[0m",
      "\u001b[0;31mNameError\u001b[0m                                 Traceback (most recent call last)",
      "\u001b[0;32m<ipython-input-5-7e9cc9a1ae3c>\u001b[0m in \u001b[0;36m<module>\u001b[0;34m\u001b[0m\n\u001b[1;32m      1\u001b[0m \u001b[0;31m#인기순/작성순 선택할 수 있는 영역 클릭\u001b[0m\u001b[0;34m\u001b[0m\u001b[0;34m\u001b[0m\u001b[0;34m\u001b[0m\u001b[0m\n\u001b[0;32m----> 2\u001b[0;31m \u001b[0mbrowser\u001b[0m\u001b[0;34m.\u001b[0m\u001b[0mfind_element_by_xpath\u001b[0m\u001b[0;34m(\u001b[0m\u001b[0;34m'//paper-button[@class=\"dropdown-trigger style-scope yt-dropdown-menu\"]'\u001b[0m\u001b[0;34m)\u001b[0m\u001b[0;34m.\u001b[0m\u001b[0mclick\u001b[0m\u001b[0;34m(\u001b[0m\u001b[0;34m)\u001b[0m\u001b[0;34m\u001b[0m\u001b[0;34m\u001b[0m\u001b[0m\n\u001b[0m\u001b[1;32m      3\u001b[0m \u001b[0;31m#인기순 카테고리 클릭\u001b[0m\u001b[0;34m\u001b[0m\u001b[0;34m\u001b[0m\u001b[0;34m\u001b[0m\u001b[0m\n\u001b[1;32m      4\u001b[0m \u001b[0mbrowser\u001b[0m\u001b[0;34m.\u001b[0m\u001b[0mfind_element_by_xpath\u001b[0m\u001b[0;34m(\u001b[0m\u001b[0;34m'//paper-listbox[@class=\"dropdown-content style-scope yt-dropdown-menu\"]/a[1]'\u001b[0m\u001b[0;34m)\u001b[0m\u001b[0;34m.\u001b[0m\u001b[0mclick\u001b[0m\u001b[0;34m(\u001b[0m\u001b[0;34m)\u001b[0m\u001b[0;34m\u001b[0m\u001b[0;34m\u001b[0m\u001b[0m\n",
      "\u001b[0;31mNameError\u001b[0m: name 'browser' is not defined"
     ]
    }
   ],
   "source": [
    "#인기순/작성순 선택할 수 있는 영역 클릭\n",
    "browser.find_element_by_xpath('//paper-button[@class=\"dropdown-trigger style-scope yt-dropdown-menu\"]').click()\n",
    "#인기순 카테고리 클릭\n",
    "browser.find_element_by_xpath('//paper-listbox[@class=\"dropdown-content style-scope yt-dropdown-menu\"]/a[1]').click()"
   ]
  },
  {
   "cell_type": "code",
   "execution_count": 0,
   "metadata": {
    "colab": {
     "base_uri": "https://localhost:8080/",
     "height": 1000
    },
    "colab_type": "code",
    "executionInfo": {
     "elapsed": 866,
     "status": "ok",
     "timestamp": 1576149565918,
     "user": {
      "displayName": "JM Yon",
      "photoUrl": "https://lh3.googleusercontent.com/a-/AAuE7mDhr1v-kdkyLEFUMCID65rgNJJ6q1AcogIYDEHl=s64",
      "userId": "03205220348104841407"
     },
     "user_tz": -540
    },
    "id": "1pqwSkIo1URW",
    "outputId": "88f4abc5-379f-4e6a-c5e1-8929bb7aae92"
   },
   "outputs": [
    {
     "name": "stdout",
     "output_type": "stream",
     "text": [
      "1 :   /\n",
      "2 :   //www.youtube.com/upload\n",
      "3 :  Find out why https://www.google.com/get/videoqualityreport/?v=XUM3sH1kBtw\n",
      "4 :   /channel/UCtckgmUcpzqGnzcs7xEqMzQ\n",
      "5 :  자이언트 펭TV /channel/UCtckgmUcpzqGnzcs7xEqMzQ\n",
      "6 :  Sign in https://accounts.google.com/ServiceLogin?passive=true&hl=en&uilel=3&service=youtube&continue=https%3A%2F%2Fwww.youtube.com%2Fsignin%3Fnext%3D%252Fwatch%253Fv%253DXUM3sH1kBtw%26action_handle_signin%3Dtrue%26hl%3Den%26app%3Ddesktop%26feature%3D__FEATURE__\n",
      "7 :  Sign in https://accounts.google.com/ServiceLogin?passive=true&hl=en&uilel=3&service=youtube&continue=https%3A%2F%2Fwww.youtube.com%2Fsignin%3Fnext%3D%252Fwatch%253Fv%253DXUM3sH1kBtw%26action_handle_signin%3Dtrue%26hl%3Den%26app%3Ddesktop%26feature%3D__FEATURE__\n",
      "8 :  Add translations /timedtext_video?ref=wt&auto=yes&bl=watch&v=XUM3sH1kBtw\n",
      "9 :  Sign in https://accounts.google.com/ServiceLogin?passive=true&hl=en&uilel=3&service=youtube&continue=https%3A%2F%2Fwww.youtube.com%2Fsignin%3Fnext%3D%252Fwatch%253Fv%253DXUM3sH1kBtw%26action_handle_signin%3Dtrue%26hl%3Den%26app%3Ddesktop%26feature%3D__FEATURE__\n",
      "10 :  Sign in https://accounts.google.com/ServiceLogin?passive=true&hl=en&uilel=3&service=youtube&continue=https%3A%2F%2Fwww.youtube.com%2Fsignin%3Fnext%3D%252Fwatch%253Fv%253DXUM3sH1kBtw%26action_handle_signin%3Dtrue%26hl%3Den%26app%3Ddesktop%26feature%3D__FEATURE__\n",
      "11 :  Howto & Style /channel/UC1vGae2Q3oT5MkhhfW8lwjg\n",
      "12 :  [Ep 67] 전 세계 게 섰거라 (feat. 외교부)\n",
      "  \n",
      "\n",
      "     - Duration: 9:40.\n",
      "  \n",
      "자이언트 펭TV\n",
      "1,359,736 views /watch?v=yUJAvW2Rykc\n",
      "13 :  9:40 /watch?v=yUJAvW2Rykc\n",
      "14 :  [Ep.65] 세상에 나쁜 펭귄은 없다.\n",
      "  \n",
      "\n",
      "     - Duration: 9:36.\n",
      "  \n",
      "자이언트 펭TV\n",
      "1,885,538 views /watch?v=wedLGh2jxkQ\n",
      "15 :  9:36 /watch?v=wedLGh2jxkQ\n",
      "16 :  20191010 배성재의 텐 콩까지마피아 with 홍진호, 펭수 (레전드 방송)\n",
      "  \n",
      "\n",
      "     - Duration: 1:23:47.\n",
      "  \n",
      "코빨간배춘기\n",
      "378,984 views /watch?v=FZOS3pnvrB8\n",
      "17 :  1:23:47 /watch?v=FZOS3pnvrB8\n",
      "18 :  펭수 정주행 하이라이트 2탄♥️\n",
      "  \n",
      "\n",
      "     - Duration: 14:37.\n",
      "  \n",
      "Dayzi 그날의 민지\n",
      "71,434 views /watch?v=RzRsYP6kGjI\n",
      "19 :  14:37 /watch?v=RzRsYP6kGjI\n",
      "20 :  81 videos\n",
      "  \n",
      "\n",
      "\n",
      "\n",
      "\n",
      "\n",
      "\n",
      "\n",
      "\n",
      "Play all\n",
      "          \n",
      "\n",
      "\n",
      "\n",
      "[본방 FULL] 자이언트 펭TV자이언트 펭TV /watch?v=2gg1QKk7fjw&list=PLeq1C1537EvHO4nXCXb98stSy-AH8ojas\n",
      "21 :  영화 '천문: 하늘에 묻는다' 오디션 보러 간 펭수(*쿠키영상 있음!)\n",
      "  \n",
      "\n",
      "     - Duration: 7:44.\n",
      "  \n",
      "자이언트 펭TV\n",
      "847,029 viewsNew /watch?v=8qYmLVOlYXI\n",
      "22 :  7:44 /watch?v=8qYmLVOlYXI\n",
      "23 :  [6분순삭] 펭수의 매력 하이라이트 모음zip (feat.김명중,뚝딱이)\n",
      "  \n",
      "\n",
      "     - Duration: 6:05.\n",
      "  \n",
      "지식조미료 JIZO\n",
      "1,431,915 views /watch?v=3cbRRHkSEvM\n",
      "24 :  6:05 /watch?v=3cbRRHkSEvM\n",
      "25 :  예술천재 펭수, 고양예고 테스트 도전! 음악과 미술과 뿌셔! [EP.27]\n",
      "  \n",
      "\n",
      "     - Duration: 9:37.\n",
      "  \n",
      "자이언트 펭TV\n",
      "1,465,122 views /watch?v=NjS52lUjHDU\n",
      "26 :  9:37 /watch?v=NjS52lUjHDU\n",
      "27 :  (Full .ver) [MLT-215] 도티의 크리에이터 컨설팅 (호스트-도티&펭수) 2019-10-19\n",
      "  \n",
      "\n",
      "     - Duration: 2:28:26.\n",
      "  \n",
      "_Fxxking Life _\n",
      "457,550 views /watch?v=abwqlv568RE\n",
      "28 :  2:28:26 /watch?v=abwqlv568RE\n",
      "29 :  내 동년배들 다 펭클럽이다..❤️ 망해가는 스타트업도 살린다는 펭수 등.장!ㅣ스튜디오 콜 ep.02\n",
      "  \n",
      "\n",
      "     - Duration: 5:31.\n",
      "  \n",
      "스튜디오 룰루랄라- studio lululala\n",
      "11,483 viewsNew /watch?v=EFt2zDqNJIg\n",
      "30 :  5:31 /watch?v=EFt2zDqNJIg\n",
      "31 :  오늘은 펭수가 매니저 일 다한다고요. 아.시.겠.어.요? \"펭수, 매니저 되다!\" [EP.12]\n",
      "  \n",
      "\n",
      "     - Duration: 9:21.\n",
      "  \n",
      "자이언트 펭TV\n",
      "1,005,294 views /watch?v=0G1S_EXmKMA\n",
      "32 :  9:21 /watch?v=0G1S_EXmKMA\n",
      "33 :  [Ep.71] 내 헤드셋 누가 가져갔어?\n",
      "  \n",
      "\n",
      "     - Duration: 9:35.\n",
      "  \n",
      "자이언트 펭TV\n",
      "1,396,021 viewsNew /watch?v=rRZtVrh6kgI\n",
      "34 :  9:35 /watch?v=rRZtVrh6kgI\n",
      "35 :  펭수 입덕영상 만능 펭수모음 2탄 예체능편\n",
      "  \n",
      "\n",
      "     - Duration: 11:52.\n",
      "  \n",
      "재겨미보물창꼬\n",
      "93,319 viewsNew /watch?v=ZwWD0rmd7XI\n",
      "36 :  11:52 /watch?v=ZwWD0rmd7XI\n",
      "37 :  [Ep.44] 펭수, 드디어 ㄱㅁㅈ을 만났다\n",
      "  \n",
      "\n",
      "     - Duration: 9:41.\n",
      "  \n",
      "자이언트 펭TV\n",
      "2,050,653 views /watch?v=TckHOovKE2I\n",
      "38 :  9:41 /watch?v=TckHOovKE2I\n",
      "39 :  [펭수쇼 1부] 당신의 펭수를 선택해주세요![Ep.51]\n",
      "  \n",
      "\n",
      "     - Duration: 9:34.\n",
      "  \n",
      "자이언트 펭TV\n",
      "535,796 views /watch?v=vlqaa_YxxBE\n",
      "40 :  9:34 /watch?v=vlqaa_YxxBE\n",
      "41 :  8분순삭 펭수 버럭 모음\n",
      "  \n",
      "\n",
      "     - Duration: 7:54.\n",
      "  \n",
      "재겨미보물창꼬\n",
      "1,137,413 views /watch?v=AVT7uM2c51g\n",
      "42 :  7:54 /watch?v=AVT7uM2c51g\n",
      "43 :  '자꾸 교육방송 선 넘는' 이말년(침착맨)과 펭수(EBS 연습생)의 짤방 폭격! [EP.31]\n",
      "  \n",
      "\n",
      "     - Duration: 9:40.\n",
      "  \n",
      "자이언트 펭TV\n",
      "1,495,551 views /watch?v=S9q4BorGg0I\n",
      "44 :  9:40 /watch?v=S9q4BorGg0I\n",
      "45 :  펭수 정주행 하이라이트 3탄 🍊\n",
      "  \n",
      "\n",
      "     - Duration: 16:58.\n",
      "  \n",
      "Dayzi 그날의 민지\n",
      "33,380 viewsNew /watch?v=UJqOcib3WQY\n",
      "46 :  16:58 /watch?v=UJqOcib3WQY\n",
      "47 :  윤도현 선배님과 S본부에서 만남(feat. 우리 호흡 난리남)\n",
      "  \n",
      "\n",
      "     - Duration: 5:34.\n",
      "  \n",
      "자이언트 펭TV\n",
      "1,349,098 views /watch?v=2biW2UZBvVA\n",
      "48 :  5:34 /watch?v=2biW2UZBvVA\n",
      "49 :  펭수의 매니저 사관학교(feat.매니저스) 펭! 하!\n",
      "  \n",
      "\n",
      "     - Duration: 8:39.\n",
      "  \n",
      "자이언트 펭TV\n",
      "868,070 views /watch?v=R2Oro64h5aM\n",
      "50 :  8:39 /watch?v=R2Oro64h5aM\n",
      "51 :   /\n",
      "52 :  History /feed/history\n",
      "53 :  About //www.youtube.com/yt/about/\n",
      "54 :  Press //www.youtube.com/yt/press/\n",
      "55 :  Copyright //www.youtube.com/yt/copyright/\n",
      "56 :  Creators //www.youtube.com/yt/creators/\n",
      "57 :  Advertise //www.youtube.com/yt/advertise/\n",
      "58 :  Developers //www.youtube.com/yt/dev/\n",
      "59 :  Terms /t/terms\n",
      "60 :  Privacy https://www.google.com/intl/en/policies/privacy/\n",
      "61 :  Policy & Safety //www.youtube.com/yt/policyandsafety/\n",
      "62 :  Send feedback //support.google.com/youtube/?hl=en\n",
      "63 :  Test new features /testtube\n",
      "64 :  Sign in https://accounts.google.com/ServiceLogin?passive=true&hl=en&uilel=3&service=youtube&continue=https%3A%2F%2Fwww.youtube.com%2Fsignin%3Fnext%3D%252Fwatch%253Fv%253DXUM3sH1kBtw%26action_handle_signin%3Dtrue%26hl%3Den%26app%3Ddesktop%26feature%3Dplaylist\n"
     ]
    }
   ],
   "source": [
    "#텍스트에 있는 각각의 url 가져오기\n",
    "links = []\n",
    "\n",
    "idx = 0\n",
    "for link in bs.find_all('a'):  #a는 앵커를 의미.\n",
    "    l_text = link.text.strip()\n",
    "    l_href = link.get('href')\n",
    "    idx += 1\n",
    "    dict_link = {'addr':l_href, 'text':l_text}\n",
    "    links.append(dict_link)\n",
    "    print(str(idx), ': ', l_text, l_href)"
   ]
  },
  {
   "cell_type": "code",
   "execution_count": 0,
   "metadata": {
    "colab": {},
    "colab_type": "code",
    "id": "Kc4zPSvo1b2-"
   },
   "outputs": [],
   "source": [
    "import pandas as pd\n",
    "\n",
    "df = pd.DataFrame(links)"
   ]
  },
  {
   "cell_type": "code",
   "execution_count": 0,
   "metadata": {
    "colab": {},
    "colab_type": "code",
    "id": "v9WJ5cKS1gxO"
   },
   "outputs": [],
   "source": [
    "news_list = []\n",
    "\n",
    "for link in links:\n",
    "    url = link['addr']\n",
    "    title = link['text']\n",
    "    html = urlopen(url)  \n",
    "    bs = BeautifulSoup(html, \"html.parser\") \n",
    "    comments = bs.body.find('div', {'id':'main'}).get_text()\n",
    "    comments = content.replace('\\n\\n\\n\\n\\n// flash 오류를 우회하기 위한 함수 추가\\nfunction _flash_removeCallback() {}','')\n",
    "    comments = content.replace('\\n',' ')\n",
    "    comments = content.replace('\\t',' ')\n",
    "    dict_comments = {'addr':url, 'text':title, 'content':content} \n",
    "    comments_list.append(dict_comments)\n",
    "\n",
    "comments_contents = pd.DataFrame(comments_list)"
   ]
  },
  {
   "cell_type": "code",
   "execution_count": 0,
   "metadata": {
    "colab": {},
    "colab_type": "code",
    "id": "-MktUfmr1_Q4"
   },
   "outputs": [],
   "source": [
    "comments_contents.head()"
   ]
  },
  {
   "cell_type": "code",
   "execution_count": 0,
   "metadata": {
    "colab": {},
    "colab_type": "code",
    "id": "49N9bBcE2BmO"
   },
   "outputs": [],
   "source": [
    "comments_contents.to_csv('commentss_contents.csv')"
   ]
  },
  {
   "cell_type": "markdown",
   "metadata": {
    "colab_type": "text",
    "id": "x7P09K7B2Z-q"
   },
   "source": [
    "### 2. 텍스트 마이닝 사전 작업"
   ]
  },
  {
   "cell_type": "code",
   "execution_count": 0,
   "metadata": {
    "colab": {
     "base_uri": "https://localhost:8080/",
     "height": 1000
    },
    "colab_type": "code",
    "executionInfo": {
     "elapsed": 33470,
     "status": "ok",
     "timestamp": 1576149898859,
     "user": {
      "displayName": "JM Yon",
      "photoUrl": "https://lh3.googleusercontent.com/a-/AAuE7mDhr1v-kdkyLEFUMCID65rgNJJ6q1AcogIYDEHl=s64",
      "userId": "03205220348104841407"
     },
     "user_tz": -540
    },
    "id": "W0yy6biS2hW_",
    "outputId": "0ea1ff38-031e-480c-faf1-76a2ab98bcd7"
   },
   "outputs": [
    {
     "name": "stdout",
     "output_type": "stream",
     "text": [
      "Collecting jpype1\n",
      "\u001b[?25l  Downloading https://files.pythonhosted.org/packages/07/09/e19ce27d41d4f66d73ac5b6c6a188c51b506f56c7bfbe6c1491db2d15995/JPype1-0.7.0-cp36-cp36m-manylinux2010_x86_64.whl (2.7MB)\n",
      "\u001b[K     |████████████████████████████████| 2.7MB 2.8MB/s \n",
      "\u001b[?25hInstalling collected packages: jpype1\n",
      "Successfully installed jpype1-0.7.0\n",
      "Collecting konlpy\n",
      "\u001b[?25l  Downloading https://files.pythonhosted.org/packages/85/0e/f385566fec837c0b83f216b2da65db9997b35dd675e107752005b7d392b1/konlpy-0.5.2-py2.py3-none-any.whl (19.4MB)\n",
      "\u001b[K     |████████████████████████████████| 19.4MB 24.6MB/s \n",
      "\u001b[?25hRequirement already satisfied: numpy>=1.6 in /usr/local/lib/python3.6/dist-packages (from konlpy) (1.17.4)\n",
      "Collecting colorama\n",
      "  Downloading https://files.pythonhosted.org/packages/c9/dc/45cdef1b4d119eb96316b3117e6d5708a08029992b2fee2c143c7a0a5cc5/colorama-0.4.3-py2.py3-none-any.whl\n",
      "Requirement already satisfied: lxml>=4.1.0 in /usr/local/lib/python3.6/dist-packages (from konlpy) (4.2.6)\n",
      "Collecting tweepy>=3.7.0\n",
      "  Downloading https://files.pythonhosted.org/packages/36/1b/2bd38043d22ade352fc3d3902cf30ce0e2f4bf285be3b304a2782a767aec/tweepy-3.8.0-py2.py3-none-any.whl\n",
      "Requirement already satisfied: JPype1>=0.7.0 in /usr/local/lib/python3.6/dist-packages (from konlpy) (0.7.0)\n",
      "Collecting beautifulsoup4==4.6.0\n",
      "\u001b[?25l  Downloading https://files.pythonhosted.org/packages/9e/d4/10f46e5cfac773e22707237bfcd51bbffeaf0a576b0a847ec7ab15bd7ace/beautifulsoup4-4.6.0-py3-none-any.whl (86kB)\n",
      "\u001b[K     |████████████████████████████████| 92kB 10.2MB/s \n",
      "\u001b[?25hRequirement already satisfied: six>=1.10.0 in /usr/local/lib/python3.6/dist-packages (from tweepy>=3.7.0->konlpy) (1.12.0)\n",
      "Requirement already satisfied: PySocks>=1.5.7 in /usr/local/lib/python3.6/dist-packages (from tweepy>=3.7.0->konlpy) (1.7.1)\n",
      "Requirement already satisfied: requests>=2.11.1 in /usr/local/lib/python3.6/dist-packages (from tweepy>=3.7.0->konlpy) (2.21.0)\n",
      "Requirement already satisfied: requests-oauthlib>=0.7.0 in /usr/local/lib/python3.6/dist-packages (from tweepy>=3.7.0->konlpy) (1.3.0)\n",
      "Requirement already satisfied: certifi>=2017.4.17 in /usr/local/lib/python3.6/dist-packages (from requests>=2.11.1->tweepy>=3.7.0->konlpy) (2019.11.28)\n",
      "Requirement already satisfied: chardet<3.1.0,>=3.0.2 in /usr/local/lib/python3.6/dist-packages (from requests>=2.11.1->tweepy>=3.7.0->konlpy) (3.0.4)\n",
      "Requirement already satisfied: urllib3<1.25,>=1.21.1 in /usr/local/lib/python3.6/dist-packages (from requests>=2.11.1->tweepy>=3.7.0->konlpy) (1.24.3)\n",
      "Requirement already satisfied: idna<2.9,>=2.5 in /usr/local/lib/python3.6/dist-packages (from requests>=2.11.1->tweepy>=3.7.0->konlpy) (2.8)\n",
      "Requirement already satisfied: oauthlib>=3.0.0 in /usr/local/lib/python3.6/dist-packages (from requests-oauthlib>=0.7.0->tweepy>=3.7.0->konlpy) (3.1.0)\n",
      "Installing collected packages: colorama, tweepy, beautifulsoup4, konlpy\n",
      "  Found existing installation: tweepy 3.6.0\n",
      "    Uninstalling tweepy-3.6.0:\n",
      "      Successfully uninstalled tweepy-3.6.0\n",
      "  Found existing installation: beautifulsoup4 4.6.3\n",
      "    Uninstalling beautifulsoup4-4.6.3:\n",
      "      Successfully uninstalled beautifulsoup4-4.6.3\n",
      "Successfully installed beautifulsoup4-4.6.0 colorama-0.4.3 konlpy-0.5.2 tweepy-3.8.0\n"
     ]
    },
    {
     "data": {
      "application/vnd.colab-display-data+json": {
       "pip_warning": {
        "packages": [
         "bs4"
        ]
       }
      }
     },
     "metadata": {
      "tags": []
     },
     "output_type": "display_data"
    },
    {
     "name": "stdout",
     "output_type": "stream",
     "text": [
      "Collecting simplejson\n",
      "\u001b[?25l  Downloading https://files.pythonhosted.org/packages/98/87/a7b98aa9256c8843f92878966dc3d8d914c14aad97e2c5ce4798d5743e07/simplejson-3.17.0.tar.gz (83kB)\n",
      "\r",
      "\u001b[K     |████                            | 10kB 17.4MB/s eta 0:00:01\r",
      "\u001b[K     |███████▉                        | 20kB 1.7MB/s eta 0:00:01\r",
      "\u001b[K     |███████████▉                    | 30kB 2.5MB/s eta 0:00:01\r",
      "\u001b[K     |███████████████▊                | 40kB 1.6MB/s eta 0:00:01\r",
      "\u001b[K     |███████████████████▊            | 51kB 2.0MB/s eta 0:00:01\r",
      "\u001b[K     |███████████████████████▋        | 61kB 2.4MB/s eta 0:00:01\r",
      "\u001b[K     |███████████████████████████▋    | 71kB 2.8MB/s eta 0:00:01\r",
      "\u001b[K     |███████████████████████████████▌| 81kB 3.2MB/s eta 0:00:01\r",
      "\u001b[K     |████████████████████████████████| 92kB 2.7MB/s \n",
      "\u001b[?25hBuilding wheels for collected packages: simplejson\n",
      "  Building wheel for simplejson (setup.py) ... \u001b[?25l\u001b[?25hdone\n",
      "  Created wheel for simplejson: filename=simplejson-3.17.0-cp36-cp36m-linux_x86_64.whl size=114201 sha256=2f6c3f257d14643183f137beba04809f9adc649e000060baee5350e95d85946b\n",
      "  Stored in directory: /root/.cache/pip/wheels/86/c0/83/dcd0339abb2640544bb8e0938aab2d069cef55e5647ce6e097\n",
      "Successfully built simplejson\n",
      "Installing collected packages: simplejson\n",
      "Successfully installed simplejson-3.17.0\n",
      "Collecting pygame\n",
      "\u001b[?25l  Downloading https://files.pythonhosted.org/packages/8e/24/ede6428359f913ed9cd1643dd5533aefeb5a2699cc95bea089de50ead586/pygame-1.9.6-cp36-cp36m-manylinux1_x86_64.whl (11.4MB)\n",
      "\u001b[K     |████████████████████████████████| 11.4MB 2.7MB/s \n",
      "\u001b[?25hInstalling collected packages: pygame\n",
      "Successfully installed pygame-1.9.6\n",
      "Collecting pytagcloud\n",
      "\u001b[?25l  Downloading https://files.pythonhosted.org/packages/a6/36/8626ddead8006c0dbab0a4994737db10463b9c5f837f1fbbd2bbf5bfa27c/pytagcloud-0.3.5.tar.gz (754kB)\n",
      "\u001b[K     |████████████████████████████████| 757kB 2.8MB/s \n",
      "\u001b[?25hBuilding wheels for collected packages: pytagcloud\n",
      "  Building wheel for pytagcloud (setup.py) ... \u001b[?25l\u001b[?25hdone\n",
      "  Created wheel for pytagcloud: filename=pytagcloud-0.3.5-cp36-none-any.whl size=759869 sha256=93d323fde182b509900f2850578922cc7187e543cf92556fc804f417616504bc\n",
      "  Stored in directory: /root/.cache/pip/wheels/08/bf/d4/8899fd82d7f62af5960d17cc59b80edae474380b92828c8c1f\n",
      "Successfully built pytagcloud\n",
      "Installing collected packages: pytagcloud\n",
      "Successfully installed pytagcloud-0.3.5\n"
     ]
    }
   ],
   "source": [
    "!pip install jpype1\n",
    "!pip install konlpy\n",
    "\n",
    "!pip install simplejson\n",
    "!pip install pygame\n",
    "!pip install pytagcloud "
   ]
  },
  {
   "cell_type": "code",
   "execution_count": 0,
   "metadata": {
    "colab": {
     "base_uri": "https://localhost:8080/",
     "height": 52
    },
    "colab_type": "code",
    "executionInfo": {
     "elapsed": 898,
     "status": "ok",
     "timestamp": 1576149942039,
     "user": {
      "displayName": "JM Yon",
      "photoUrl": "https://lh3.googleusercontent.com/a-/AAuE7mDhr1v-kdkyLEFUMCID65rgNJJ6q1AcogIYDEHl=s64",
      "userId": "03205220348104841407"
     },
     "user_tz": -540
    },
    "id": "K5lzcmXu2lMR",
    "outputId": "e960da21-674c-47b9-eafc-2f097b3fe907"
   },
   "outputs": [
    {
     "name": "stdout",
     "output_type": "stream",
     "text": [
      "pygame 1.9.6\n",
      "Hello from the pygame community. https://www.pygame.org/contribute.html\n"
     ]
    }
   ],
   "source": [
    "import pandas as pd\n",
    "from datetime import datetime\n",
    "import pytagcloud \n",
    "from collections import Counter"
   ]
  },
  {
   "cell_type": "code",
   "execution_count": 0,
   "metadata": {
    "colab": {},
    "colab_type": "code",
    "id": "5urGHcm723rM"
   },
   "outputs": [],
   "source": [
    "df = pd.read_csv('comments_contents.csv')"
   ]
  },
  {
   "cell_type": "code",
   "execution_count": 0,
   "metadata": {
    "colab": {},
    "colab_type": "code",
    "id": "zcM6S92L3BOu"
   },
   "outputs": [],
   "source": [
    "df.head(2)"
   ]
  },
  {
   "cell_type": "code",
   "execution_count": 0,
   "metadata": {
    "colab": {},
    "colab_type": "code",
    "id": "8B4tDjY63Gay"
   },
   "outputs": [],
   "source": [
    "# 한나눔 # Kkma / KOMORAN 등 다양.\n",
    "from konlpy.tag import Hannanum\n",
    "nlp = Hannanum() \n",
    "\n",
    "#품사태깅\n",
    "print(nlp.pos(u'오류보고는 실행환경, 에러메세지와함께 설명을 최대한상세히!'))\n",
    "print(nlp.nouns(u'오류보고는 실행환경, 에러메세지와함께 설명을 최대한상세히!'))"
   ]
  },
  {
   "cell_type": "code",
   "execution_count": 0,
   "metadata": {
    "colab": {},
    "colab_type": "code",
    "id": "YLXwDgJn3QgJ"
   },
   "outputs": [],
   "source": [
    "tags = nlp.nouns(u'오류보고는 실행환경, 에러메세지와함께 설명을 최대한상세히!')"
   ]
  },
  {
   "cell_type": "code",
   "execution_count": 0,
   "metadata": {
    "colab": {},
    "colab_type": "code",
    "id": "V9pCbACr3XlF"
   },
   "outputs": [],
   "source": [
    "df['content'][0]"
   ]
  },
  {
   "cell_type": "code",
   "execution_count": 0,
   "metadata": {
    "colab": {},
    "colab_type": "code",
    "id": "6TfBfRlr3cow"
   },
   "outputs": [],
   "source": [
    "type(df['content'])\n",
    "\n",
    "tags = []\n",
    "\n",
    "for idx, row in df.iterrows():\n",
    "    nouns = nlp.nouns(row['content'])\n",
    "    tags.extend(nouns)"
   ]
  },
  {
   "cell_type": "code",
   "execution_count": 0,
   "metadata": {
    "colab": {},
    "colab_type": "code",
    "id": "mcUIW5Xl3gE9"
   },
   "outputs": [],
   "source": [
    "# tags = nlp.nouns(df['content'][0])"
   ]
  },
  {
   "cell_type": "code",
   "execution_count": 0,
   "metadata": {
    "colab": {},
    "colab_type": "code",
    "id": "OV0WHFoK3iWW"
   },
   "outputs": [],
   "source": [
    "count = Counter(tags)  # 똑같은 단어들 추리고, 유니크한 단어들 갯수 세는 것."
   ]
  },
  {
   "cell_type": "code",
   "execution_count": 0,
   "metadata": {
    "colab": {},
    "colab_type": "code",
    "id": "KuooWCcv3lHB"
   },
   "outputs": [],
   "source": [
    "tags2 = count.most_common(100)"
   ]
  },
  {
   "cell_type": "code",
   "execution_count": 0,
   "metadata": {
    "colab": {},
    "colab_type": "code",
    "id": "SFS3atKv3n6z"
   },
   "outputs": [],
   "source": [
    "tags2 = list(filter(lambda x: len(x) > 1, tags2))"
   ]
  },
  {
   "cell_type": "code",
   "execution_count": 0,
   "metadata": {
    "colab": {},
    "colab_type": "code",
    "id": "Cc6Xc-aK3rha"
   },
   "outputs": [],
   "source": [
    "taglist = pytagcloud.make_tags(tags2, maxsize=80)"
   ]
  },
  {
   "cell_type": "code",
   "execution_count": 0,
   "metadata": {
    "colab": {},
    "colab_type": "code",
    "id": "ZG4i-cWG3uSy"
   },
   "outputs": [],
   "source": [
    "# pytagcloud.create_tag_image(taglist, 'tags.jpg', size=(600, 400), fontname='Nobile', rectangular=False)"
   ]
  },
  {
   "cell_type": "code",
   "execution_count": 0,
   "metadata": {
    "colab": {},
    "colab_type": "code",
    "id": "LjXKt-YpNxdH"
   },
   "outputs": [],
   "source": []
  },
  {
   "cell_type": "markdown",
   "metadata": {
    "colab_type": "text",
    "id": "Szc7m8yUN1Rs"
   },
   "source": [
    "### 1. 웹크롤링 사전 작업 (다른 방법: Selenium 활용)"
   ]
  },
  {
   "cell_type": "code",
   "execution_count": 3,
   "metadata": {
    "colab": {
     "base_uri": "https://localhost:8080/",
     "height": 248
    },
    "colab_type": "code",
    "executionInfo": {
     "elapsed": 11899,
     "status": "ok",
     "timestamp": 1576827091645,
     "user": {
      "displayName": "JM Yon",
      "photoUrl": "https://lh3.googleusercontent.com/a-/AAuE7mDhr1v-kdkyLEFUMCID65rgNJJ6q1AcogIYDEHl=s64",
      "userId": "03205220348104841407"
     },
     "user_tz": -540
    },
    "id": "6rhsciRbN6cj",
    "outputId": "84a8cd4e-27c9-4d4c-d4e7-f4b36a5bcf4c"
   },
   "outputs": [
    {
     "name": "stdout",
     "output_type": "stream",
     "text": [
      "Requirement already satisfied: requests in /usr/local/lib/python3.6/dist-packages (2.21.0)\n",
      "Requirement already satisfied: urllib3<1.25,>=1.21.1 in /usr/local/lib/python3.6/dist-packages (from requests) (1.24.3)\n",
      "Requirement already satisfied: chardet<3.1.0,>=3.0.2 in /usr/local/lib/python3.6/dist-packages (from requests) (3.0.4)\n",
      "Requirement already satisfied: idna<2.9,>=2.5 in /usr/local/lib/python3.6/dist-packages (from requests) (2.8)\n",
      "Requirement already satisfied: certifi>=2017.4.17 in /usr/local/lib/python3.6/dist-packages (from requests) (2019.11.28)\n",
      "Requirement already satisfied: beautifulsoup4 in /usr/local/lib/python3.6/dist-packages (4.6.3)\n",
      "Collecting selenium\n",
      "\u001b[?25l  Downloading https://files.pythonhosted.org/packages/80/d6/4294f0b4bce4de0abf13e17190289f9d0613b0a44e5dd6a7f5ca98459853/selenium-3.141.0-py2.py3-none-any.whl (904kB)\n",
      "\u001b[K     |████████████████████████████████| 911kB 8.6MB/s \n",
      "\u001b[?25hRequirement already satisfied: urllib3 in /usr/local/lib/python3.6/dist-packages (from selenium) (1.24.3)\n",
      "Installing collected packages: selenium\n",
      "Successfully installed selenium-3.141.0\n"
     ]
    }
   ],
   "source": [
    "!pip install requests\n",
    "!pip install beautifulsoup4\n",
    "!pip install selenium"
   ]
  },
  {
   "cell_type": "code",
   "execution_count": 7,
   "metadata": {
    "colab": {},
    "colab_type": "code",
    "id": "B7VxMHfzN8uj"
   },
   "outputs": [],
   "source": [
    "import time\n",
    "import csv\n",
    "from selenium import webdriver\n",
    "from selenium.webdriver.common.keys import Keys"
   ]
  },
  {
   "cell_type": "code",
   "execution_count": 8,
   "metadata": {
    "colab": {},
    "colab_type": "code",
    "id": "-WBmpqAlOBB5"
   },
   "outputs": [],
   "source": [
    "chrome_path = (\"chromedriver\")"
   ]
  },
  {
   "cell_type": "code",
   "execution_count": 9,
   "metadata": {
    "colab": {},
    "colab_type": "code",
    "id": "BefujGGPOEX2"
   },
   "outputs": [],
   "source": [
    "page_url = \"https://www.youtube.com/watch?v=K_5lal40lCk&t=2s\""
   ]
  },
  {
   "cell_type": "code",
   "execution_count": 10,
   "metadata": {
    "colab": {
     "base_uri": "https://localhost:8080/",
     "height": 459
    },
    "colab_type": "code",
    "executionInfo": {
     "elapsed": 1396,
     "status": "error",
     "timestamp": 1576828710586,
     "user": {
      "displayName": "JM Yon",
      "photoUrl": "https://lh3.googleusercontent.com/a-/AAuE7mDhr1v-kdkyLEFUMCID65rgNJJ6q1AcogIYDEHl=s64",
      "userId": "03205220348104841407"
     },
     "user_tz": -540
    },
    "id": "7p-852bgOHDE",
    "outputId": "11949e13-e8e8-4ae2-e918-d50f6447f363"
   },
   "outputs": [],
   "source": [
    "driver = webdriver.Chrome(executable_path=chrome_path)\n",
    "driver.get(page_url)\n",
    "time.sleep(2)"
   ]
  },
  {
   "cell_type": "code",
   "execution_count": 11,
   "metadata": {
    "colab": {
     "base_uri": "https://localhost:8080/",
     "height": 206
    },
    "colab_type": "code",
    "executionInfo": {
     "elapsed": 1179,
     "status": "error",
     "timestamp": 1576827153868,
     "user": {
      "displayName": "JM Yon",
      "photoUrl": "https://lh3.googleusercontent.com/a-/AAuE7mDhr1v-kdkyLEFUMCID65rgNJJ6q1AcogIYDEHl=s64",
      "userId": "03205220348104841407"
     },
     "user_tz": -540
    },
    "id": "LLoGlD70OLk9",
    "outputId": "c3cae371-3ee3-49a8-d655-014eb70ef4d2"
   },
   "outputs": [
    {
     "name": "stdout",
     "output_type": "stream",
     "text": [
      "EBS 최초 연습생 펭수의 오디션 합격 TIP *최초공개*\n"
     ]
    }
   ],
   "source": [
    "title = driver.find_element_by_xpath('//*[@id=\"container\"]/h1/yt-formatted-string').text\n",
    "print(title)"
   ]
  },
  {
   "cell_type": "code",
   "execution_count": 0,
   "metadata": {
    "colab": {},
    "colab_type": "code",
    "id": "0fGM_C-4OOiJ"
   },
   "outputs": [],
   "source": [
    "SCROLL_PAUSE_TIME = 2\n",
    "CYCLES = 100"
   ]
  },
  {
   "cell_type": "code",
   "execution_count": 0,
   "metadata": {
    "colab": {},
    "colab_type": "code",
    "id": "9TRFgRZYR6ad"
   },
   "outputs": [],
   "source": [
    "html = driver.find_element_by_tag_name('html')\n",
    "html.send_keys(Keys.PAGE_DOWN)  \n",
    "html.send_keys(Keys.PAGE_DOWN)  \n",
    "time.sleep(SCROLL_PAUSE_TIME * 3)"
   ]
  },
  {
   "cell_type": "code",
   "execution_count": 0,
   "metadata": {
    "colab": {},
    "colab_type": "code",
    "id": "8TAEhbEjN16I"
   },
   "outputs": [],
   "source": [
    "for i in range(CYCLES):\n",
    "    html.send_keys(Keys.END)\n",
    "    time.sleep(SCROLL_PAUSE_TIME)"
   ]
  },
  {
   "cell_type": "code",
   "execution_count": 0,
   "metadata": {
    "colab": {},
    "colab_type": "code",
    "id": "m0M_5LkHR_A1"
   },
   "outputs": [],
   "source": [
    "comment_elems = driver.find_elements_by_xpath('//*[@id=\"content-text\"]')\n",
    "all_comments = [elem.text for elem in comment_elems]\n",
    "#print(all_comments)"
   ]
  },
  {
   "cell_type": "code",
   "execution_count": 0,
   "metadata": {
    "colab": {},
    "colab_type": "code",
    "id": "vCtCsRwPSBV1"
   },
   "outputs": [],
   "source": [
    "replies_elems =driver.find_elements_by_xpath('//*[@id=\"replies\"]')\n",
    "all_replies = [elem.text for elem in replies_elems]\n",
    "print(all_replies)"
   ]
  },
  {
   "cell_type": "code",
   "execution_count": 0,
   "metadata": {
    "colab": {},
    "colab_type": "code",
    "id": "m8uOJ3fSSBtK"
   },
   "outputs": [],
   "source": [
    "write_file = \"output_comments.csv\"\n",
    "with open(write_file, 'w', -1, encoding='utf8') as output:\n",
    "    for line in all_comments:\n",
    "        output.write(line + '/n')"
   ]
  },
  {
   "cell_type": "code",
   "execution_count": 0,
   "metadata": {
    "colab": {},
    "colab_type": "code",
    "id": "NstpSceVSFat"
   },
   "outputs": [],
   "source": []
  },
  {
   "cell_type": "code",
   "execution_count": 0,
   "metadata": {
    "colab": {},
    "colab_type": "code",
    "id": "r8pQzI1pSFXX"
   },
   "outputs": [],
   "source": []
  }
 ],
 "metadata": {
  "colab": {
   "collapsed_sections": [],
   "name": "비즈니스 프로그래밍 팀플.ipynb",
   "provenance": []
  },
  "kernelspec": {
   "display_name": "Python 3",
   "language": "python",
   "name": "python3"
  },
  "language_info": {
   "codemirror_mode": {
    "name": "ipython",
    "version": 3
   },
   "file_extension": ".py",
   "mimetype": "text/x-python",
   "name": "python",
   "nbconvert_exporter": "python",
   "pygments_lexer": "ipython3",
   "version": "3.7.4"
  }
 },
 "nbformat": 4,
 "nbformat_minor": 1
}
