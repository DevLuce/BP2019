{
 "cells": [
  {
   "cell_type": "markdown",
   "metadata": {},
   "source": [
    "캐릭터 \"펭수\"의 인기 요인은 무엇인가\n",
    "=========================\n",
    "* * *"
   ]
  },
  {
   "cell_type": "markdown",
   "metadata": {},
   "source": [
    "## 유튜브 웹 크롤링"
   ]
  },
  {
   "cell_type": "code",
   "execution_count": 1,
   "metadata": {},
   "outputs": [],
   "source": [
    "from selenium import webdriver as wd \n",
    "from bs4 import BeautifulSoup \n",
    "import time \n",
    "import pandas as pd "
   ]
  },
  {
   "cell_type": "markdown",
   "metadata": {},
   "source": [
    "인기 비디오 **첫번째** 링크 크롤링"
   ]
  },
  {
   "cell_type": "code",
   "execution_count": 2,
   "metadata": {},
   "outputs": [
    {
     "data": {
      "text/plain": [
       "(1520, 2)"
      ]
     },
     "execution_count": 2,
     "metadata": {},
     "output_type": "execute_result"
    }
   ],
   "source": [
    "## ------------------------- selenium의 chromedriver를 이용한 웹 탐색 ---------------------------- ##\n",
    "driver = wd.Chrome(executable_path=\"chromedriver\") \n",
    "url = 'https://www.youtube.com/watch?v=K_5lal40lCk' \n",
    "driver.get(url) \n",
    "\n",
    "last_page_height = driver.execute_script(\"return document.documentElement.scrollHeight\") \n",
    "\n",
    "while True: \n",
    "    driver.execute_script(\"window.scrollTo(0, document.documentElement.scrollHeight);\") \n",
    "    time.sleep(3.0) \n",
    "    new_page_height = driver.execute_script(\"return document.documentElement.scrollHeight\") \n",
    "    \n",
    "    if new_page_height == last_page_height: \n",
    "        break \n",
    "    last_page_height = new_page_height \n",
    "\n",
    "html_source = driver.page_source \n",
    "driver.close() \n",
    "\n",
    "## ---------------------------- BeautifulSoup를 이용한 웹 크롤링 --------------------------------- ##\n",
    "soup = BeautifulSoup(html_source, 'lxml')\n",
    "\n",
    "youtube_user_IDs = soup.select('div#header-author > a > span') \n",
    "youtube_comments = soup.select('yt-formatted-string#content-text')\n",
    "\n",
    "str_youtube_userIDs = [] \n",
    "str_youtube_comments = [] \n",
    "\n",
    "for i in range(len(youtube_user_IDs)): \n",
    "    str_tmp = str(youtube_user_IDs[i].text) \n",
    "    # print(str_tmp) \n",
    "    str_tmp = str_tmp.replace('\\n', '') \n",
    "    str_tmp = str_tmp.replace('\\t', '') \n",
    "    str_tmp = str_tmp.replace(' ','') \n",
    "    str_youtube_userIDs.append(str_tmp) \n",
    "    str_tmp = str(youtube_comments[i].text) \n",
    "    str_tmp = str_tmp.replace('\\n', '') \n",
    "    str_tmp = str_tmp.replace('\\t', '') \n",
    "    str_tmp = str_tmp.replace(' ', '') \n",
    "    str_youtube_comments.append(str_tmp)\n",
    "    \n",
    "## ----------------------------- pandas를 이용한 데이터 프레임 형성 --------------------------------- ##  \n",
    "pd_data = {\"ID\":str_youtube_userIDs, \"Comment\":str_youtube_comments} \n",
    "youtube_pd1 = pd.DataFrame(pd_data)\n",
    "youtube_pd1.shape"
   ]
  },
  {
   "cell_type": "markdown",
   "metadata": {},
   "source": [
    "인기 비디오 **두번째** 링크 크롤링"
   ]
  },
  {
   "cell_type": "code",
   "execution_count": 3,
   "metadata": {},
   "outputs": [
    {
     "data": {
      "text/plain": [
       "(1520, 2)"
      ]
     },
     "execution_count": 3,
     "metadata": {},
     "output_type": "execute_result"
    }
   ],
   "source": [
    "## ------------------------- selenium의 chromedriver를 이용한 웹 탐색 ---------------------------- ##\n",
    "driver = wd.Chrome(executable_path=\"chromedriver\") \n",
    "url = 'https://www.youtube.com/watch?v=UD-WQvgjsng' \n",
    "driver.get(url) \n",
    "\n",
    "last_page_height = driver.execute_script(\"return document.documentElement.scrollHeight\") \n",
    "\n",
    "while True: \n",
    "    driver.execute_script(\"window.scrollTo(0, document.documentElement.scrollHeight);\") \n",
    "    time.sleep(3.0) \n",
    "    new_page_height = driver.execute_script(\"return document.documentElement.scrollHeight\") \n",
    "    \n",
    "    if new_page_height == last_page_height: \n",
    "        break \n",
    "    last_page_height = new_page_height \n",
    "\n",
    "html_source = driver.page_source \n",
    "driver.close() \n",
    "\n",
    "## ---------------------------- BeautifulSoup를 이용한 웹 크롤링 --------------------------------- ##\n",
    "soup = BeautifulSoup(html_source, 'lxml')\n",
    "\n",
    "youtube_user_IDs = soup.select('div#header-author > a > span') \n",
    "youtube_comments = soup.select('yt-formatted-string#content-text')\n",
    "\n",
    "str_youtube_userIDs = [] \n",
    "str_youtube_comments = [] \n",
    "\n",
    "for i in range(len(youtube_user_IDs)): \n",
    "    str_tmp = str(youtube_user_IDs[i].text) \n",
    "    # print(str_tmp) \n",
    "    str_tmp = str_tmp.replace('\\n', '') \n",
    "    str_tmp = str_tmp.replace('\\t', '') \n",
    "    str_tmp = str_tmp.replace(' ','') \n",
    "    str_youtube_userIDs.append(str_tmp) \n",
    "    str_tmp = str(youtube_comments[i].text) \n",
    "    str_tmp = str_tmp.replace('\\n', '') \n",
    "    str_tmp = str_tmp.replace('\\t', '') \n",
    "    str_tmp = str_tmp.replace(' ', '') \n",
    "    str_youtube_comments.append(str_tmp)\n",
    "\n",
    "## ----------------------------- pandas를 이용한 데이터 프레임 형성 --------------------------------- ##    \n",
    "pd_data = {\"ID\":str_youtube_userIDs, \"Comment\":str_youtube_comments} \n",
    "youtube_pd2 = pd.DataFrame(pd_data)\n",
    "youtube_pd2.shape"
   ]
  },
  {
   "cell_type": "markdown",
   "metadata": {},
   "source": [
    "인기 비디오 **세번째** 링크 크롤링"
   ]
  },
  {
   "cell_type": "code",
   "execution_count": 4,
   "metadata": {},
   "outputs": [
    {
     "data": {
      "text/plain": [
       "(1515, 2)"
      ]
     },
     "execution_count": 4,
     "metadata": {},
     "output_type": "execute_result"
    }
   ],
   "source": [
    "## ------------------------- selenium의 chromedriver를 이용한 웹 탐색 ---------------------------- ##\n",
    "driver = wd.Chrome(executable_path=\"chromedriver\") \n",
    "url = 'https://www.youtube.com/watch?v=TckHOovKE2I&t=127s' \n",
    "driver.get(url) \n",
    "\n",
    "last_page_height = driver.execute_script(\"return document.documentElement.scrollHeight\") \n",
    "\n",
    "while True: \n",
    "    driver.execute_script(\"window.scrollTo(0, document.documentElement.scrollHeight);\") \n",
    "    time.sleep(3.0) \n",
    "    new_page_height = driver.execute_script(\"return document.documentElement.scrollHeight\") \n",
    "    \n",
    "    if new_page_height == last_page_height: \n",
    "        break \n",
    "    last_page_height = new_page_height \n",
    "\n",
    "html_source = driver.page_source \n",
    "driver.close() \n",
    "\n",
    "## ---------------------------- BeautifulSoup를 이용한 웹 크롤링 --------------------------------- ##\n",
    "soup = BeautifulSoup(html_source, 'lxml')\n",
    "\n",
    "youtube_user_IDs = soup.select('div#header-author > a > span') \n",
    "youtube_comments = soup.select('yt-formatted-string#content-text')\n",
    "\n",
    "str_youtube_userIDs = [] \n",
    "str_youtube_comments = [] \n",
    "\n",
    "for i in range(len(youtube_user_IDs)): \n",
    "    str_tmp = str(youtube_user_IDs[i].text) \n",
    "    # print(str_tmp) \n",
    "    str_tmp = str_tmp.replace('\\n', '') \n",
    "    str_tmp = str_tmp.replace('\\t', '') \n",
    "    str_tmp = str_tmp.replace(' ','') \n",
    "    str_youtube_userIDs.append(str_tmp) \n",
    "    str_tmp = str(youtube_comments[i].text) \n",
    "    str_tmp = str_tmp.replace('\\n', '') \n",
    "    str_tmp = str_tmp.replace('\\t', '') \n",
    "    str_tmp = str_tmp.replace(' ', '') \n",
    "    str_youtube_comments.append(str_tmp)\n",
    "    \n",
    "## ----------------------------- pandas를 이용한 데이터 프레임 형성 --------------------------------- ##\n",
    "pd_data = {\"ID\":str_youtube_userIDs, \"Comment\":str_youtube_comments} \n",
    "youtube_pd3 = pd.DataFrame(pd_data)\n",
    "youtube_pd3.shape"
   ]
  },
  {
   "cell_type": "markdown",
   "metadata": {},
   "source": [
    "인기 비디오 **네번째** 링크 크롤링"
   ]
  },
  {
   "cell_type": "code",
   "execution_count": 5,
   "metadata": {},
   "outputs": [
    {
     "data": {
      "text/plain": [
       "(1517, 2)"
      ]
     },
     "execution_count": 5,
     "metadata": {},
     "output_type": "execute_result"
    }
   ],
   "source": [
    "## ------------------------- selenium의 chromedriver를 이용한 웹 탐색 ---------------------------- ##\n",
    "driver = wd.Chrome(executable_path=\"chromedriver\") \n",
    "url = 'https://www.youtube.com/watch?v=wedLGh2jxkQ' \n",
    "driver.get(url) \n",
    "\n",
    "last_page_height = driver.execute_script(\"return document.documentElement.scrollHeight\") \n",
    "\n",
    "while True: \n",
    "    driver.execute_script(\"window.scrollTo(0, document.documentElement.scrollHeight);\") \n",
    "    time.sleep(3.0) \n",
    "    new_page_height = driver.execute_script(\"return document.documentElement.scrollHeight\") \n",
    "    \n",
    "    if new_page_height == last_page_height: \n",
    "        break \n",
    "    last_page_height = new_page_height \n",
    "\n",
    "html_source = driver.page_source \n",
    "driver.close() \n",
    "\n",
    "## ---------------------------- BeautifulSoup를 이용한 웹 크롤링 --------------------------------- ##\n",
    "soup = BeautifulSoup(html_source, 'lxml')\n",
    "\n",
    "youtube_user_IDs = soup.select('div#header-author > a > span') \n",
    "youtube_comments = soup.select('yt-formatted-string#content-text')\n",
    "\n",
    "str_youtube_userIDs = [] \n",
    "str_youtube_comments = [] \n",
    "\n",
    "for i in range(len(youtube_user_IDs)): \n",
    "    str_tmp = str(youtube_user_IDs[i].text) \n",
    "    # print(str_tmp) \n",
    "    str_tmp = str_tmp.replace('\\n', '') \n",
    "    str_tmp = str_tmp.replace('\\t', '') \n",
    "    str_tmp = str_tmp.replace(' ','') \n",
    "    str_youtube_userIDs.append(str_tmp) \n",
    "    str_tmp = str(youtube_comments[i].text) \n",
    "    str_tmp = str_tmp.replace('\\n', '') \n",
    "    str_tmp = str_tmp.replace('\\t', '') \n",
    "    str_tmp = str_tmp.replace(' ', '') \n",
    "    str_youtube_comments.append(str_tmp)\n",
    "    \n",
    "## ----------------------------- pandas를 이용한 데이터 프레임 형성 --------------------------------- ##\n",
    "pd_data = {\"ID\":str_youtube_userIDs, \"Comment\":str_youtube_comments} \n",
    "youtube_pd4 = pd.DataFrame(pd_data)\n",
    "youtube_pd4.shape"
   ]
  },
  {
   "cell_type": "markdown",
   "metadata": {},
   "source": [
    "인기 비디오 **다섯번째** 링크 크롤링"
   ]
  },
  {
   "cell_type": "code",
   "execution_count": 7,
   "metadata": {},
   "outputs": [
    {
     "data": {
      "text/plain": [
       "(1520, 2)"
      ]
     },
     "execution_count": 7,
     "metadata": {},
     "output_type": "execute_result"
    }
   ],
   "source": [
    "## ------------------------- selenium의 chromedriver를 이용한 웹 탐색 ---------------------------- ##\n",
    "driver = wd.Chrome(executable_path=\"chromedriver\") \n",
    "url = 'https://www.youtube.com/watch?v=yN7wrzXtIWM&t' \n",
    "driver.get(url) \n",
    "\n",
    "last_page_height = driver.execute_script(\"return document.documentElement.scrollHeight\") \n",
    "\n",
    "while True: \n",
    "    driver.execute_script(\"window.scrollTo(0, document.documentElement.scrollHeight);\") \n",
    "    time.sleep(3.0) \n",
    "    new_page_height = driver.execute_script(\"return document.documentElement.scrollHeight\") \n",
    "    \n",
    "    if new_page_height == last_page_height: \n",
    "        break \n",
    "    last_page_height = new_page_height \n",
    "\n",
    "html_source = driver.page_source \n",
    "driver.close() \n",
    "\n",
    "## ---------------------------- BeautifulSoup를 이용한 웹 크롤링 --------------------------------- ##\n",
    "soup = BeautifulSoup(html_source, 'lxml')\n",
    "\n",
    "youtube_user_IDs = soup.select('div#header-author > a > span') \n",
    "youtube_comments = soup.select('yt-formatted-string#content-text')\n",
    "\n",
    "str_youtube_userIDs = [] \n",
    "str_youtube_comments = [] \n",
    "\n",
    "for i in range(len(youtube_user_IDs)): \n",
    "    str_tmp = str(youtube_user_IDs[i].text) \n",
    "    # print(str_tmp) \n",
    "    str_tmp = str_tmp.replace('\\n', '') \n",
    "    str_tmp = str_tmp.replace('\\t', '') \n",
    "    str_tmp = str_tmp.replace(' ','') \n",
    "    str_youtube_userIDs.append(str_tmp) \n",
    "    str_tmp = str(youtube_comments[i].text) \n",
    "    str_tmp = str_tmp.replace('\\n', '') \n",
    "    str_tmp = str_tmp.replace('\\t', '') \n",
    "    str_tmp = str_tmp.replace(' ', '') \n",
    "    str_youtube_comments.append(str_tmp)\n",
    "\n",
    "## ----------------------------- pandas를 이용한 데이터 프레임 형성 --------------------------------- ## \n",
    "pd_data = {\"ID\":str_youtube_userIDs, \"Comment\":str_youtube_comments} \n",
    "youtube_pd5 = pd.DataFrame(pd_data)\n",
    "youtube_pd5.shape"
   ]
  },
  {
   "cell_type": "markdown",
   "metadata": {},
   "source": [
    "인기 비디오 **여섯번째** 링크 크롤링"
   ]
  },
  {
   "cell_type": "code",
   "execution_count": 8,
   "metadata": {},
   "outputs": [
    {
     "data": {
      "text/plain": [
       "(1520, 2)"
      ]
     },
     "execution_count": 8,
     "metadata": {},
     "output_type": "execute_result"
    }
   ],
   "source": [
    "## ------------------------- selenium의 chromedriver를 이용한 웹 탐색 ---------------------------- ##\n",
    "driver = wd.Chrome(executable_path=\"chromedriver\") \n",
    "url = 'https://www.youtube.com/watch?v=0jQ6W6BPUFc&t' \n",
    "driver.get(url) \n",
    "\n",
    "last_page_height = driver.execute_script(\"return document.documentElement.scrollHeight\") \n",
    "\n",
    "while True: \n",
    "    driver.execute_script(\"window.scrollTo(0, document.documentElement.scrollHeight);\") \n",
    "    time.sleep(3.0) \n",
    "    new_page_height = driver.execute_script(\"return document.documentElement.scrollHeight\") \n",
    "    \n",
    "    if new_page_height == last_page_height: \n",
    "        break \n",
    "    last_page_height = new_page_height \n",
    "\n",
    "html_source = driver.page_source \n",
    "driver.close() \n",
    "\n",
    "## ---------------------------- BeautifulSoup를 이용한 웹 크롤링 --------------------------------- ##\n",
    "soup = BeautifulSoup(html_source, 'lxml')\n",
    "\n",
    "youtube_user_IDs = soup.select('div#header-author > a > span') \n",
    "youtube_comments = soup.select('yt-formatted-string#content-text')\n",
    "\n",
    "str_youtube_userIDs = [] \n",
    "str_youtube_comments = [] \n",
    "\n",
    "for i in range(len(youtube_user_IDs)): \n",
    "    str_tmp = str(youtube_user_IDs[i].text) \n",
    "    # print(str_tmp) \n",
    "    str_tmp = str_tmp.replace('\\n', '') \n",
    "    str_tmp = str_tmp.replace('\\t', '') \n",
    "    str_tmp = str_tmp.replace(' ','') \n",
    "    str_youtube_userIDs.append(str_tmp) \n",
    "    str_tmp = str(youtube_comments[i].text) \n",
    "    str_tmp = str_tmp.replace('\\n', '') \n",
    "    str_tmp = str_tmp.replace('\\t', '') \n",
    "    str_tmp = str_tmp.replace(' ', '') \n",
    "    str_youtube_comments.append(str_tmp)\n",
    "    \n",
    "## ----------------------------- pandas를 이용한 데이터 프레임 형성 --------------------------------- ##     \n",
    "pd_data = {\"ID\":str_youtube_userIDs, \"Comment\":str_youtube_comments} \n",
    "youtube_pd6 = pd.DataFrame(pd_data)\n",
    "youtube_pd6.shape"
   ]
  },
  {
   "cell_type": "markdown",
   "metadata": {},
   "source": [
    "인기 비디오 **일곱번째** 링크 크롤링"
   ]
  },
  {
   "cell_type": "code",
   "execution_count": 10,
   "metadata": {},
   "outputs": [
    {
     "data": {
      "text/plain": [
       "(1520, 2)"
      ]
     },
     "execution_count": 10,
     "metadata": {},
     "output_type": "execute_result"
    }
   ],
   "source": [
    "## ------------------------- selenium의 chromedriver를 이용한 웹 탐색 ---------------------------- ##\n",
    "driver = wd.Chrome(executable_path=\"chromedriver\") \n",
    "url = 'https://www.youtube.com/watch?v=rRZtVrh6kgI' \n",
    "driver.get(url) \n",
    "\n",
    "last_page_height = driver.execute_script(\"return document.documentElement.scrollHeight\") \n",
    "\n",
    "while True: \n",
    "    driver.execute_script(\"window.scrollTo(0, document.documentElement.scrollHeight);\") \n",
    "    time.sleep(3.0) \n",
    "    new_page_height = driver.execute_script(\"return document.documentElement.scrollHeight\") \n",
    "    \n",
    "    if new_page_height == last_page_height: \n",
    "        break \n",
    "    last_page_height = new_page_height \n",
    "\n",
    "html_source = driver.page_source \n",
    "driver.close() \n",
    "\n",
    "## ---------------------------- BeautifulSoup를 이용한 웹 크롤링 --------------------------------- ##\n",
    "soup = BeautifulSoup(html_source, 'lxml')\n",
    "\n",
    "youtube_user_IDs = soup.select('div#header-author > a > span') \n",
    "youtube_comments = soup.select('yt-formatted-string#content-text')\n",
    "\n",
    "str_youtube_userIDs = [] \n",
    "str_youtube_comments = [] \n",
    "\n",
    "for i in range(len(youtube_user_IDs)): \n",
    "    str_tmp = str(youtube_user_IDs[i].text) \n",
    "    # print(str_tmp) \n",
    "    str_tmp = str_tmp.replace('\\n', '') \n",
    "    str_tmp = str_tmp.replace('\\t', '') \n",
    "    str_tmp = str_tmp.replace(' ','') \n",
    "    str_youtube_userIDs.append(str_tmp) \n",
    "    str_tmp = str(youtube_comments[i].text) \n",
    "    str_tmp = str_tmp.replace('\\n', '') \n",
    "    str_tmp = str_tmp.replace('\\t', '') \n",
    "    str_tmp = str_tmp.replace(' ', '') \n",
    "    str_youtube_comments.append(str_tmp)\n",
    "    \n",
    "## ----------------------------- pandas를 이용한 데이터 프레임 형성 --------------------------------- ##  \n",
    "pd_data = {\"ID\":str_youtube_userIDs, \"Comment\":str_youtube_comments} \n",
    "youtube_pd7 = pd.DataFrame(pd_data)\n",
    "youtube_pd7.shape"
   ]
  },
  {
   "cell_type": "markdown",
   "metadata": {},
   "source": [
    "인기 비디오 **여덟번째** 링크 크롤링"
   ]
  },
  {
   "cell_type": "code",
   "execution_count": 11,
   "metadata": {},
   "outputs": [
    {
     "data": {
      "text/plain": [
       "(1516, 2)"
      ]
     },
     "execution_count": 11,
     "metadata": {},
     "output_type": "execute_result"
    }
   ],
   "source": [
    "## ------------------------- selenium의 chromedriver를 이용한 웹 탐색 ---------------------------- ##\n",
    "driver = wd.Chrome(executable_path=\"chromedriver\") \n",
    "url = 'https://www.youtube.com/watch?v=XUM3sH1kBtw' \n",
    "driver.get(url) \n",
    "\n",
    "last_page_height = driver.execute_script(\"return document.documentElement.scrollHeight\") \n",
    "\n",
    "while True: \n",
    "    driver.execute_script(\"window.scrollTo(0, document.documentElement.scrollHeight);\") \n",
    "    time.sleep(3.0) \n",
    "    new_page_height = driver.execute_script(\"return document.documentElement.scrollHeight\") \n",
    "    \n",
    "    if new_page_height == last_page_height: \n",
    "        break \n",
    "    last_page_height = new_page_height \n",
    "\n",
    "html_source = driver.page_source \n",
    "driver.close() \n",
    "\n",
    "## ---------------------------- BeautifulSoup를 이용한 웹 크롤링 --------------------------------- ##\n",
    "soup = BeautifulSoup(html_source, 'lxml')\n",
    "\n",
    "youtube_user_IDs = soup.select('div#header-author > a > span') \n",
    "youtube_comments = soup.select('yt-formatted-string#content-text')\n",
    "\n",
    "str_youtube_userIDs = [] \n",
    "str_youtube_comments = [] \n",
    "\n",
    "for i in range(len(youtube_user_IDs)): \n",
    "    str_tmp = str(youtube_user_IDs[i].text) \n",
    "    # print(str_tmp) \n",
    "    str_tmp = str_tmp.replace('\\n', '') \n",
    "    str_tmp = str_tmp.replace('\\t', '') \n",
    "    str_tmp = str_tmp.replace(' ','') \n",
    "    str_youtube_userIDs.append(str_tmp) \n",
    "    str_tmp = str(youtube_comments[i].text) \n",
    "    str_tmp = str_tmp.replace('\\n', '') \n",
    "    str_tmp = str_tmp.replace('\\t', '') \n",
    "    str_tmp = str_tmp.replace(' ', '') \n",
    "    str_youtube_comments.append(str_tmp)\n",
    "    \n",
    "## ----------------------------- pandas를 이용한 데이터 프레임 형성 --------------------------------- ##  \n",
    "pd_data = {\"ID\":str_youtube_userIDs, \"Comment\":str_youtube_comments} \n",
    "youtube_pd8 = pd.DataFrame(pd_data)\n",
    "youtube_pd8.shape"
   ]
  },
  {
   "cell_type": "markdown",
   "metadata": {},
   "source": [
    "인기 비디오 **아홉번째** 링크 크롤링"
   ]
  },
  {
   "cell_type": "code",
   "execution_count": 12,
   "metadata": {},
   "outputs": [
    {
     "data": {
      "text/plain": [
       "(1520, 2)"
      ]
     },
     "execution_count": 12,
     "metadata": {},
     "output_type": "execute_result"
    }
   ],
   "source": [
    "## ------------------------- selenium의 chromedriver를 이용한 웹 탐색 ---------------------------- ##\n",
    "driver = wd.Chrome(executable_path=\"chromedriver\") \n",
    "url = 'https://www.youtube.com/watch?v=80cyxKBcYXA' \n",
    "driver.get(url) \n",
    "\n",
    "last_page_height = driver.execute_script(\"return document.documentElement.scrollHeight\") \n",
    "\n",
    "while True: \n",
    "    driver.execute_script(\"window.scrollTo(0, document.documentElement.scrollHeight);\") \n",
    "    time.sleep(3.0) \n",
    "    new_page_height = driver.execute_script(\"return document.documentElement.scrollHeight\") \n",
    "    \n",
    "    if new_page_height == last_page_height: \n",
    "        break \n",
    "    last_page_height = new_page_height \n",
    "\n",
    "html_source = driver.page_source \n",
    "driver.close() \n",
    "\n",
    "## ---------------------------- BeautifulSoup를 이용한 웹 크롤링 --------------------------------- ##\n",
    "soup = BeautifulSoup(html_source, 'lxml')\n",
    "\n",
    "youtube_user_IDs = soup.select('div#header-author > a > span') \n",
    "youtube_comments = soup.select('yt-formatted-string#content-text')\n",
    "\n",
    "str_youtube_userIDs = [] \n",
    "str_youtube_comments = [] \n",
    "\n",
    "for i in range(len(youtube_user_IDs)): \n",
    "    str_tmp = str(youtube_user_IDs[i].text) \n",
    "    # print(str_tmp) \n",
    "    str_tmp = str_tmp.replace('\\n', '') \n",
    "    str_tmp = str_tmp.replace('\\t', '') \n",
    "    str_tmp = str_tmp.replace(' ','') \n",
    "    str_youtube_userIDs.append(str_tmp) \n",
    "    str_tmp = str(youtube_comments[i].text) \n",
    "    str_tmp = str_tmp.replace('\\n', '') \n",
    "    str_tmp = str_tmp.replace('\\t', '') \n",
    "    str_tmp = str_tmp.replace(' ', '') \n",
    "    str_youtube_comments.append(str_tmp)\n",
    "\n",
    "## ----------------------------- pandas를 이용한 데이터 프레임 형성 --------------------------------- ##    \n",
    "pd_data = {\"ID\":str_youtube_userIDs, \"Comment\":str_youtube_comments} \n",
    "youtube_pd9 = pd.DataFrame(pd_data)\n",
    "youtube_pd9.shape"
   ]
  },
  {
   "cell_type": "markdown",
   "metadata": {},
   "source": [
    "인기 비디오 **열번째** 링크 크롤링"
   ]
  },
  {
   "cell_type": "code",
   "execution_count": 13,
   "metadata": {},
   "outputs": [
    {
     "data": {
      "text/plain": [
       "(1498, 2)"
      ]
     },
     "execution_count": 13,
     "metadata": {},
     "output_type": "execute_result"
    }
   ],
   "source": [
    "## ------------------------- selenium의 chromedriver를 이용한 웹 탐색 ---------------------------- ##\n",
    "driver = wd.Chrome(executable_path=\"chromedriver\") \n",
    "url = 'https://www.youtube.com/watch?v=9v6oBBsW3gA&t' \n",
    "driver.get(url) \n",
    "\n",
    "last_page_height = driver.execute_script(\"return document.documentElement.scrollHeight\") \n",
    "\n",
    "while True: \n",
    "    driver.execute_script(\"window.scrollTo(0, document.documentElement.scrollHeight);\") \n",
    "    time.sleep(3.0)  #딜레이\n",
    "    new_page_height = driver.execute_script(\"return document.documentElement.scrollHeight\") \n",
    "    \n",
    "    if new_page_height == last_page_height: \n",
    "        break \n",
    "    last_page_height = new_page_height \n",
    "\n",
    "html_source = driver.page_source \n",
    "driver.close() \n",
    "\n",
    "## ---------------------------- BeautifulSoup를 이용한 웹 크롤링 --------------------------------- ##\n",
    "soup = BeautifulSoup(html_source, 'lxml')\n",
    "\n",
    "youtube_user_IDs = soup.select('div#header-author > a > span') \n",
    "youtube_comments = soup.select('yt-formatted-string#content-text')\n",
    "\n",
    "str_youtube_userIDs = [] \n",
    "str_youtube_comments = [] \n",
    "\n",
    "for i in range(len(youtube_user_IDs)): \n",
    "    str_tmp = str(youtube_user_IDs[i].text) \n",
    "    str_tmp = str_tmp.replace('\\n', '') \n",
    "    str_tmp = str_tmp.replace('\\t', '') \n",
    "    str_tmp = str_tmp.replace(' ','') \n",
    "    str_youtube_userIDs.append(str_tmp) \n",
    "    str_tmp = str(youtube_comments[i].text) \n",
    "    str_tmp = str_tmp.replace('\\n', '') \n",
    "    str_tmp = str_tmp.replace('\\t', '') \n",
    "    str_tmp = str_tmp.replace(' ', '') \n",
    "    str_youtube_comments.append(str_tmp)\n",
    "\n",
    "## ----------------------------- pandas를 이용한 데이터 프레임 형성 --------------------------------- ##\n",
    "pd_data = {\"ID\":str_youtube_userIDs, \"Comment\":str_youtube_comments} \n",
    "youtube_pd10 = pd.DataFrame(pd_data)\n",
    "youtube_pd10.shape"
   ]
  },
  {
   "cell_type": "markdown",
   "metadata": {},
   "source": [
    "**Selenium**의 **chromedriver** 을 이용해서 웹 스크롤을 해야만 댓글 데이터가 로딩되는 문제를 해결했습니다.\n",
    "**time** 패키지 함수를 사용하여 3초의 딜레이를 주어 그 시간안에 댓글 로딩이 되어 이전 페이지보다 길어지면 계속 반복되게 하였습니다.\n",
    "이전 반복 상태와 같으면 반복문이 종료되고 그 페이지 데이터를 최종적으로 파싱할 수 있게 하였습니다.\n",
    "\n",
    "**BeautifulSoup** 을 이용해서 받아온 데이터를 파싱했습니다.\n",
    "댓글의 id와 comment의 html 태그를 확인하고 데이터를 받아왔습니다.\n",
    "받아온 데이터의 의미없는 값들을 제거하고 리스트에 저장했습니다.\n",
    "\n",
    "마지막으로 **pandas** 를 이용해서 id와 comment가 저장된 딕셔너리를 인자값으로 전달하여 Dataframe을 만들었습니다."
   ]
  },
  {
   "cell_type": "markdown",
   "metadata": {},
   "source": [
    "### 10개 데이터 프레임 합"
   ]
  },
  {
   "cell_type": "markdown",
   "metadata": {},
   "source": [
    "유튜브 영상 한개 페이지 당 댓글 약 1500개 댓글 데이터가 존재하므로 더 많은 데이터를 확보하기 위해 인기 영상 10개를 사용했습니다.\n",
    "반복문을 사용하여 10개 페이지를 탐색하려고 했으나 탐색 도중 페이지 로드 오류가 발생하면 처음 페이지 부터 다시 반복해야하는 상황이 발생하므로\n",
    "반복문을 사용하지 않고 10개의 코드를 따로 작성하였습니다.\n",
    "\n",
    "10개 데이터 프레임을 합쳐서 약 15000개 데이터를 확보했습니다."
   ]
  },
  {
   "cell_type": "code",
   "execution_count": 14,
   "metadata": {},
   "outputs": [
    {
     "data": {
      "text/plain": [
       "(15166, 2)"
      ]
     },
     "execution_count": 14,
     "metadata": {},
     "output_type": "execute_result"
    }
   ],
   "source": [
    "youtube_pengsuTV = pd.concat([youtube_pd1,youtube_pd2,youtube_pd3,youtube_pd4,youtube_pd5,youtube_pd6,youtube_pd7,youtube_pd8,youtube_pd9,youtube_pd10])\n",
    "youtube_pengsuTV.shape"
   ]
  },
  {
   "cell_type": "code",
   "execution_count": 15,
   "metadata": {},
   "outputs": [
    {
     "data": {
      "text/html": [
       "<div>\n",
       "<style scoped>\n",
       "    .dataframe tbody tr th:only-of-type {\n",
       "        vertical-align: middle;\n",
       "    }\n",
       "\n",
       "    .dataframe tbody tr th {\n",
       "        vertical-align: top;\n",
       "    }\n",
       "\n",
       "    .dataframe thead th {\n",
       "        text-align: right;\n",
       "    }\n",
       "</style>\n",
       "<table border=\"1\" class=\"dataframe\">\n",
       "  <thead>\n",
       "    <tr style=\"text-align: right;\">\n",
       "      <th></th>\n",
       "      <th>ID</th>\n",
       "      <th>Comment</th>\n",
       "    </tr>\n",
       "  </thead>\n",
       "  <tbody>\n",
       "    <tr>\n",
       "      <td>0</td>\n",
       "      <td>자이언트펭TV</td>\n",
       "      <td>부끄럽네여🐧</td>\n",
       "    </tr>\n",
       "    <tr>\n",
       "      <td>1</td>\n",
       "      <td>투덜이스머프</td>\n",
       "      <td>펭수가ebs를선택한거네요.ebs는펭수한테절해야해요.어른들도찾아보는ebs가됐어요.</td>\n",
       "    </tr>\n",
       "    <tr>\n",
       "      <td>2</td>\n",
       "      <td>박소연[BakSoYeon]</td>\n",
       "      <td>아닠ㅋㅋㅋㅋㅋ여기서결정하랰ㅋㅋㅋㅋㅋㅋ그래야kbs가던mbc간뎈ㅋㅋㅋㅋㅋㅋㅋㅋㅋㅋ미쳤나...</td>\n",
       "    </tr>\n",
       "    <tr>\n",
       "      <td>3</td>\n",
       "      <td>한수수</td>\n",
       "      <td>PD:Ebs색깔과맞는지알고싶어요???:저랩잘합니다PD:합격</td>\n",
       "    </tr>\n",
       "    <tr>\n",
       "      <td>4</td>\n",
       "      <td>김연주</td>\n",
       "      <td>이비에스..내가당신들때문에광고를다보고있어괜찮아..광고하는동안댓글이꿀잼이라그거보면서시...</td>\n",
       "    </tr>\n",
       "    <tr>\n",
       "      <td>5</td>\n",
       "      <td>이연주</td>\n",
       "      <td>아니진짜지독한컨셉ㅋㅋㅋㅋㅋㅋㅋㅋㅋㅋㅋㅋㅋㅋㅋㅋㅋㅋㅋㅋㅋㅋㅋㅋㅋㅋㅋㅋㅋㅋㅋㅋㅋㅋㅋㅋㅋ...</td>\n",
       "    </tr>\n",
       "    <tr>\n",
       "      <td>6</td>\n",
       "      <td>사회생활이적성에안맞아요</td>\n",
       "      <td>허허벌판에서힘들게근무하던EBS직원들은급기야미쳐버리고말았군ㅋㅋㅋㅋㅋㅋㅋㅋㅋㅋㅋㅋㅋㅋㅋ</td>\n",
       "    </tr>\n",
       "    <tr>\n",
       "      <td>7</td>\n",
       "      <td>힐미딜미</td>\n",
       "      <td>대체길을어떻게잘못들면남극에서스위스들리고한국으로와ㅋㅋㅋㅋㅋ</td>\n",
       "    </tr>\n",
       "    <tr>\n",
       "      <td>8</td>\n",
       "      <td>김소희</td>\n",
       "      <td>엄마:펭수가누구야?나:바다건너우리나라로온애엄마:역시~외국애들이이쁘긴하다니까~</td>\n",
       "    </tr>\n",
       "    <tr>\n",
       "      <td>9</td>\n",
       "      <td>EunPark</td>\n",
       "      <td>신기한게진짜얼굴이상기되있고표정에긴장감이있어보여요ㅎㅎ</td>\n",
       "    </tr>\n",
       "  </tbody>\n",
       "</table>\n",
       "</div>"
      ],
      "text/plain": [
       "               ID                                            Comment\n",
       "0         자이언트펭TV                                             부끄럽네여🐧\n",
       "1          투덜이스머프       펭수가ebs를선택한거네요.ebs는펭수한테절해야해요.어른들도찾아보는ebs가됐어요.\n",
       "2  박소연[BakSoYeon]  아닠ㅋㅋㅋㅋㅋ여기서결정하랰ㅋㅋㅋㅋㅋㅋ그래야kbs가던mbc간뎈ㅋㅋㅋㅋㅋㅋㅋㅋㅋㅋ미쳤나...\n",
       "3             한수수                   PD:Ebs색깔과맞는지알고싶어요???:저랩잘합니다PD:합격\n",
       "4             김연주  이비에스..내가당신들때문에광고를다보고있어괜찮아..광고하는동안댓글이꿀잼이라그거보면서시...\n",
       "5             이연주  아니진짜지독한컨셉ㅋㅋㅋㅋㅋㅋㅋㅋㅋㅋㅋㅋㅋㅋㅋㅋㅋㅋㅋㅋㅋㅋㅋㅋㅋㅋㅋㅋㅋㅋㅋㅋㅋㅋㅋㅋㅋ...\n",
       "6    사회생활이적성에안맞아요     허허벌판에서힘들게근무하던EBS직원들은급기야미쳐버리고말았군ㅋㅋㅋㅋㅋㅋㅋㅋㅋㅋㅋㅋㅋㅋㅋ\n",
       "7            힐미딜미                    대체길을어떻게잘못들면남극에서스위스들리고한국으로와ㅋㅋㅋㅋㅋ\n",
       "8             김소희         엄마:펭수가누구야?나:바다건너우리나라로온애엄마:역시~외국애들이이쁘긴하다니까~\n",
       "9         EunPark                       신기한게진짜얼굴이상기되있고표정에긴장감이있어보여요ㅎㅎ"
      ]
     },
     "execution_count": 15,
     "metadata": {},
     "output_type": "execute_result"
    }
   ],
   "source": [
    "youtube_pengsuTV.head(10)"
   ]
  },
  {
   "cell_type": "markdown",
   "metadata": {},
   "source": [
    "# 데이터 전처리"
   ]
  },
  {
   "cell_type": "markdown",
   "metadata": {},
   "source": [
    "**re** 모듈을 이용하여 이모지 및 이모티콘과 특수문자, 의성어 등 불용어구를 제외하는 전처리를 하였습니다.  \n",
    "그리고 id 데이터는 필요 없어 최종적으로 comment column만 남겼습니다."
   ]
  },
  {
   "cell_type": "code",
   "execution_count": 16,
   "metadata": {},
   "outputs": [],
   "source": [
    "import re"
   ]
  },
  {
   "cell_type": "code",
   "execution_count": 17,
   "metadata": {},
   "outputs": [],
   "source": [
    "#이모티콘 제거\n",
    "emoji_pattern = re.compile(\"[\"\n",
    "        u\"\\U0001F600-\\U0001F64F\"  # emoticons\n",
    "        u\"\\U0001F300-\\U0001F5FF\"  # symbols & pictographs\n",
    "        u\"\\U0001F680-\\U0001F6FF\"  # transport & map symbols\n",
    "        u\"\\U0001F1E0-\\U0001F1FF\"  # flags (iOS)\n",
    "                           \"]+\", flags=re.UNICODE)\n",
    "\n",
    "#분석에 어긋나는 불용어구 제외 (특수문자, 의성어)\n",
    "han = re.compile(r'[ㄱ-ㅎㅏ-ㅣ!?~,\".\\n\\r#\\ufeff\\u200d]')"
   ]
  },
  {
   "cell_type": "code",
   "execution_count": 18,
   "metadata": {},
   "outputs": [],
   "source": [
    "comment_list = []\n",
    "for i in range(len(youtube_pengsuTV)):\n",
    "    comment_list.append(youtube_pengsuTV['Comment'].iloc[i])"
   ]
  },
  {
   "cell_type": "code",
   "execution_count": 19,
   "metadata": {},
   "outputs": [],
   "source": [
    "comment_result = []\n",
    "\n",
    "for i in comment_list:\n",
    "    tokens = re.sub(emoji_pattern,\"\",i)\n",
    "    tokens = re.sub(han,\"\",tokens)\n",
    "    comment_result.append(tokens)\n",
    "\n",
    "comment_result = pd.DataFrame(comment_result, columns=[\"comment\"])"
   ]
  },
  {
   "cell_type": "code",
   "execution_count": 20,
   "metadata": {},
   "outputs": [
    {
     "data": {
      "text/html": [
       "<div>\n",
       "<style scoped>\n",
       "    .dataframe tbody tr th:only-of-type {\n",
       "        vertical-align: middle;\n",
       "    }\n",
       "\n",
       "    .dataframe tbody tr th {\n",
       "        vertical-align: top;\n",
       "    }\n",
       "\n",
       "    .dataframe thead th {\n",
       "        text-align: right;\n",
       "    }\n",
       "</style>\n",
       "<table border=\"1\" class=\"dataframe\">\n",
       "  <thead>\n",
       "    <tr style=\"text-align: right;\">\n",
       "      <th></th>\n",
       "      <th>comment</th>\n",
       "    </tr>\n",
       "  </thead>\n",
       "  <tbody>\n",
       "    <tr>\n",
       "      <td>0</td>\n",
       "      <td>부끄럽네여</td>\n",
       "    </tr>\n",
       "    <tr>\n",
       "      <td>1</td>\n",
       "      <td>펭수가ebs를선택한거네요ebs는펭수한테절해야해요어른들도찾아보는ebs가됐어요</td>\n",
       "    </tr>\n",
       "    <tr>\n",
       "      <td>2</td>\n",
       "      <td>아닠여기서결정하랰그래야kbs가던mbc간뎈미쳤나밬+헐허류저이렇게많은좋아요처음받아봐요1...</td>\n",
       "    </tr>\n",
       "    <tr>\n",
       "      <td>3</td>\n",
       "      <td>PD:Ebs색깔과맞는지알고싶어요:저랩잘합니다PD:합격</td>\n",
       "    </tr>\n",
       "    <tr>\n",
       "      <td>4</td>\n",
       "      <td>이비에스내가당신들때문에광고를다보고있어괜찮아광고하는동안댓글이꿀잼이라그거보면서시간보내면...</td>\n",
       "    </tr>\n",
       "  </tbody>\n",
       "</table>\n",
       "</div>"
      ],
      "text/plain": [
       "                                             comment\n",
       "0                                              부끄럽네여\n",
       "1          펭수가ebs를선택한거네요ebs는펭수한테절해야해요어른들도찾아보는ebs가됐어요\n",
       "2  아닠여기서결정하랰그래야kbs가던mbc간뎈미쳤나밬+헐허류저이렇게많은좋아요처음받아봐요1...\n",
       "3                      PD:Ebs색깔과맞는지알고싶어요:저랩잘합니다PD:합격\n",
       "4  이비에스내가당신들때문에광고를다보고있어괜찮아광고하는동안댓글이꿀잼이라그거보면서시간보내면..."
      ]
     },
     "execution_count": 20,
     "metadata": {},
     "output_type": "execute_result"
    }
   ],
   "source": [
    "comment_result[:5]"
   ]
  },
  {
   "cell_type": "markdown",
   "metadata": {},
   "source": [
    "이제 캐릭터 '펭수'의 인기요인을 ***키워드***로 분석하기 위해 **konlpy** 을 이용하여 명사를 토크나이징 했습니다."
   ]
  },
  {
   "cell_type": "code",
   "execution_count": 21,
   "metadata": {},
   "outputs": [],
   "source": [
    "from konlpy.tag import Okt\n",
    "\n",
    "def get_noun(comment_txt):\n",
    "    okt = Okt()\n",
    "    noun = []\n",
    "    \n",
    "    if len(comment_txt)>0:\n",
    "        ok = okt.pos(comment_txt)\n",
    "        for i,j in ok:\n",
    "            if j == 'Noun':\n",
    "                noun.append(i)\n",
    "    return noun\n",
    " \n",
    "comment_result['token'] = comment_result['comment'].apply(lambda x: get_noun(x))"
   ]
  },
  {
   "cell_type": "code",
   "execution_count": 22,
   "metadata": {},
   "outputs": [
    {
     "data": {
      "text/html": [
       "<div>\n",
       "<style scoped>\n",
       "    .dataframe tbody tr th:only-of-type {\n",
       "        vertical-align: middle;\n",
       "    }\n",
       "\n",
       "    .dataframe tbody tr th {\n",
       "        vertical-align: top;\n",
       "    }\n",
       "\n",
       "    .dataframe thead th {\n",
       "        text-align: right;\n",
       "    }\n",
       "</style>\n",
       "<table border=\"1\" class=\"dataframe\">\n",
       "  <thead>\n",
       "    <tr style=\"text-align: right;\">\n",
       "      <th></th>\n",
       "      <th>comment</th>\n",
       "      <th>token</th>\n",
       "    </tr>\n",
       "  </thead>\n",
       "  <tbody>\n",
       "    <tr>\n",
       "      <td>0</td>\n",
       "      <td>부끄럽네여</td>\n",
       "      <td>[여]</td>\n",
       "    </tr>\n",
       "    <tr>\n",
       "      <td>1</td>\n",
       "      <td>펭수가ebs를선택한거네요ebs는펭수한테절해야해요어른들도찾아보는ebs가됐어요</td>\n",
       "      <td>[펭수, 를, 선택, 펭수, 절, 어른]</td>\n",
       "    </tr>\n",
       "    <tr>\n",
       "      <td>2</td>\n",
       "      <td>아닠여기서결정하랰그래야kbs가던mbc간뎈미쳤나밬+헐허류저이렇게많은좋아요처음받아봐요1...</td>\n",
       "      <td>[닠, 여기, 결정, 랰, 래야, 간뎈미쳤나밬, 류저, 처음, 개, 니요, 송구, ...</td>\n",
       "    </tr>\n",
       "    <tr>\n",
       "      <td>3</td>\n",
       "      <td>PD:Ebs색깔과맞는지알고싶어요:저랩잘합니다PD:합격</td>\n",
       "      <td>[색깔, 알, 랩, 합격]</td>\n",
       "    </tr>\n",
       "    <tr>\n",
       "      <td>4</td>\n",
       "      <td>이비에스내가당신들때문에광고를다보고있어괜찮아광고하는동안댓글이꿀잼이라그거보면서시간보내면...</td>\n",
       "      <td>[이비에스, 가당, 신들, 때문, 광고, 광고, 동안, 댓글, 꿀잼, 그거, 시간,...</td>\n",
       "    </tr>\n",
       "  </tbody>\n",
       "</table>\n",
       "</div>"
      ],
      "text/plain": [
       "                                             comment  \\\n",
       "0                                              부끄럽네여   \n",
       "1          펭수가ebs를선택한거네요ebs는펭수한테절해야해요어른들도찾아보는ebs가됐어요   \n",
       "2  아닠여기서결정하랰그래야kbs가던mbc간뎈미쳤나밬+헐허류저이렇게많은좋아요처음받아봐요1...   \n",
       "3                      PD:Ebs색깔과맞는지알고싶어요:저랩잘합니다PD:합격   \n",
       "4  이비에스내가당신들때문에광고를다보고있어괜찮아광고하는동안댓글이꿀잼이라그거보면서시간보내면...   \n",
       "\n",
       "                                               token  \n",
       "0                                                [여]  \n",
       "1                             [펭수, 를, 선택, 펭수, 절, 어른]  \n",
       "2  [닠, 여기, 결정, 랰, 래야, 간뎈미쳤나밬, 류저, 처음, 개, 니요, 송구, ...  \n",
       "3                                     [색깔, 알, 랩, 합격]  \n",
       "4  [이비에스, 가당, 신들, 때문, 광고, 광고, 동안, 댓글, 꿀잼, 그거, 시간,...  "
      ]
     },
     "execution_count": 22,
     "metadata": {},
     "output_type": "execute_result"
    }
   ],
   "source": [
    "comment_result[:5]"
   ]
  },
  {
   "cell_type": "markdown",
   "metadata": {},
   "source": [
    "# 데이터 분석 및 시각화\n",
    "## 텍스트 마이닝"
   ]
  },
  {
   "cell_type": "markdown",
   "metadata": {},
   "source": [
    "### BarPlot & WordCloud"
   ]
  },
  {
   "cell_type": "markdown",
   "metadata": {},
   "source": [
    "**Counter** 모듈과 **matplotlib** 을 이용해서 막대그래프로 단어의 빈도수를 나타냈습니다.  \n",
    "또한 **WordCloud** 을 이용해서 가시성을 높인 워드클라우드 형태로 시각화하였습니다."
   ]
  },
  {
   "cell_type": "code",
   "execution_count": 68,
   "metadata": {
    "scrolled": false
   },
   "outputs": [
    {
     "data": {
      "image/png": "[encoded data removed]",
      "text/plain": [
       "<Figure size 1152x648 with 1 Axes>"
      ]
     },
     "metadata": {
      "needs_background": "light"
     },
     "output_type": "display_data"
    },
    {
     "data": {
      "image/png": "[encoded data removed]",
      "text/plain": [
       "<Figure size 1152x648 with 1 Axes>"
      ]
     },
     "metadata": {
      "needs_background": "light"
     },
     "output_type": "display_data"
    }
   ],
   "source": [
    "from collections import Counter\n",
    "from wordcloud import WordCloud\n",
    "import matplotlib.pylab as plt\n",
    "import matplotlib.font_manager as fm\n",
    "import numpy as np\n",
    "import warnings\n",
    "\n",
    "warnings.filterwarnings(action='ignore')\n",
    "\n",
    "noun_list = []\n",
    "for i in range(len(comment_result)):\n",
    "    for j in range(len(comment_result['token'].iloc[i])):\n",
    "        noun_list.append(comment_result['token'].iloc[i][j])\n",
    "        \n",
    "counts = Counter(noun_list)\n",
    "tags = counts.most_common(50)\n",
    "\n",
    "#bar plot\n",
    "test = pd.DataFrame({'word':[],\n",
    "                    'count':[]})\n",
    "for i in range(len(tags)):\n",
    "    word = tags[i][0]\n",
    "    count = tags[i][1]\n",
    "    \n",
    "    insert_data = pd.DataFrame({'word':[word],\n",
    "                                'count':[count]})\n",
    "    test = test.append(insert_data)\n",
    "\n",
    "test.index = range(len(test))\n",
    "\n",
    "path = '/Users/Luce/Library/Fonts/NanumGothicCoding.ttf'\n",
    "fontprop = fm.FontProperties(fname=path, size=10)\n",
    "\n",
    "index = np.arange(len(test))\n",
    "plt.figure(figsize=(16, 9))\n",
    "plt.bar(index,test['count'].tolist())\n",
    "plt.xlabel('word', fontsize=5, fontproperties=fontprop)\n",
    "plt.ylabel('count', fontsize=5, fontproperties=fontprop)\n",
    "plt.xticks(index, test['word'].tolist(), fontsize=2, rotation=30, fontproperties=fontprop)\n",
    "plt.title('단어 빈도수 시각화', fontproperties=fontprop)\n",
    "plt.show()\n",
    "\n",
    "#wordcloud\n",
    "wc = WordCloud(font_path='/Users/Luce/Library/Fonts/NanumGothicCoding-Bold.ttf',background_color='white', width=800, height=600)\n",
    "\n",
    "cloud = wc.generate_from_frequencies(dict(tags))\n",
    "plt.figure(figsize=(16, 9))\n",
    "plt.axis('off')\n",
    "plt.imshow(cloud)\n",
    "plt.show()"
   ]
  },
  {
   "cell_type": "markdown",
   "metadata": {},
   "source": [
    "펭과 펭수, 펭귄이라는 키워드가 가장 많지만 이는 캐릭터를 나타내는 키워드 이므로 다른 키워드를 보았을 때 **목소리, 노래, 말** 등이 캐릭터의 인기 요인 키워드라고 볼 수 있습니다. 또한 **사랑, 웃기, 정말, 진짜** 등을 보아 대부분이 긍정적인 키워드라고 해석할 수 있습니다. "
   ]
  },
  {
   "cell_type": "markdown",
   "metadata": {},
   "source": [
    "### Word2Vec"
   ]
  },
  {
   "cell_type": "markdown",
   "metadata": {},
   "source": [
    "단어들을 벡터공간에 할당하여 유사도와 관련성을 기준으로 분류하기 위해 **Word2Vec** 을 활용하였습니다.  \n",
    "토크나이징 되었던 명사 키워드들을 Skip-gram 방식으로 학습시켜 분류하였습니다."
   ]
  },
  {
   "cell_type": "code",
   "execution_count": 25,
   "metadata": {},
   "outputs": [],
   "source": [
    "# Word2Vec embedding\n",
    "from gensim.models import Word2Vec"
   ]
  },
  {
   "cell_type": "code",
   "execution_count": 26,
   "metadata": {
    "scrolled": true
   },
   "outputs": [],
   "source": [
    "# Skip-gram 방식 학습을 통한 임베딩\n",
    "embedding_model = Word2Vec(comment_result['token'], size=100, window = 5, min_count=20, workers=4, iter=50, sg=1)"
   ]
  },
  {
   "cell_type": "markdown",
   "metadata": {},
   "source": [
    "#### 유사도 확인"
   ]
  },
  {
   "cell_type": "code",
   "execution_count": 27,
   "metadata": {},
   "outputs": [
    {
     "name": "stdout",
     "output_type": "stream",
     "text": [
      "[('연습생', 0.47627806663513184), ('성대모사', 0.45508408546447754), ('얼마나', 0.42406919598579407), ('자체', 0.41900834441185), ('패기', 0.4080163240432739), ('스위스', 0.39197930693626404), ('동심', 0.3871850371360779), ('구', 0.38596072793006897), ('스트', 0.3820522427558899), ('랩', 0.38140225410461426), ('펭수는펭', 0.3729420304298401), ('헤드셋', 0.37115317583084106), ('세계관', 0.3687141537666321), ('햌', 0.35559314489364624), ('존재', 0.35389596223831177), ('의사', 0.3507898449897766), ('수의사', 0.34490934014320374), ('비트박스', 0.344265341758728), ('시작', 0.3427172899246216), ('척', 0.3389701843261719), ('가든', 0.33671730756759644), ('요들송', 0.3357977867126465), ('춤', 0.3352758288383484), ('포기', 0.333304762840271), ('도대체', 0.3292737901210785), ('롱맨', 0.3278577923774719), ('월드', 0.32707148790359497), ('뻔', 0.325868159532547), ('약', 0.3246307969093323), ('월', 0.3232012391090393), ('심장', 0.32313162088394165), ('김밥', 0.321439266204834), ('스타', 0.3211248517036438), ('그동안', 0.32009410858154297), ('위', 0.3191831111907959), ('치', 0.31804347038269043), ('부터', 0.3169795274734497), ('본인', 0.31587398052215576), ('면접', 0.31321606040000916), ('본체', 0.3121715188026428), ('장관', 0.31023621559143066), ('다행', 0.3100701570510864), ('수', 0.30826276540756226), ('눈치', 0.308143675327301), ('수다', 0.30699780583381653), ('누구', 0.3035006523132324), ('목표', 0.29988473653793335), ('상처', 0.29972830414772034), ('예나', 0.2993335723876953), ('이슬', 0.29760318994522095), ('무', 0.29714152216911316), ('뒤', 0.2955670952796936), ('것', 0.2943743169307709), ('수안', 0.2939935624599457), ('아이', 0.29333123564720154), ('수라', 0.292339026927948), ('차관', 0.2894655466079712), ('곸', 0.28567221760749817), ('기자', 0.28253403306007385), ('의자', 0.28133150935173035), ('펭하', 0.28129294514656067), ('한국어', 0.28090164065361023), ('헤엄', 0.2805086076259613), ('자기', 0.2798160910606384), ('졸귀', 0.2793155312538147), ('옄', 0.2775878310203552), ('마늘', 0.27658939361572266), ('교육방송', 0.2764550447463989), ('남극', 0.2763846218585968), ('김민교', 0.2738185226917267), ('제목', 0.27355390787124634), ('이원배', 0.27339670062065125), ('성우', 0.27316781878471375), ('컨텐츠', 0.27206748723983765), ('연락', 0.27023258805274963), ('너', 0.2701769173145294), ('길', 0.2699747681617737), ('도안', 0.2686280906200409), ('훌라', 0.26758715510368347), ('걸', 0.26713037490844727), ('양치', 0.26573553681373596), ('매력', 0.26503750681877136), ('바다', 0.2638038992881775), ('햇', 0.26286014914512634), ('역대', 0.26275014877319336), ('귀염', 0.2622028589248657), ('맘', 0.26191335916519165), ('와중', 0.26161789894104004), ('편', 0.26150083541870117), ('한마디', 0.25904834270477295), ('와우', 0.2589016854763031), ('거너', 0.2588570713996887), ('중', 0.25877368450164795), ('겨', 0.2568684220314026), ('복지', 0.25633442401885986), ('음', 0.2560420632362366), ('늘', 0.25599291920661926), ('재미', 0.2552461326122284), ('포인트', 0.2548617124557495), ('수하', 0.2547782063484192)]\n"
     ]
    }
   ],
   "source": [
    "print(embedding_model.wv.most_similar(positive=[\"끼\"], topn=100))"
   ]
  },
  {
   "cell_type": "markdown",
   "metadata": {},
   "source": [
    "***끼*** 라는 키워드로 유사도가 높은 키워드를 출력하니 **패기, 성대모사, 랩, 비트박스, 춤, 요들송, 매력, 자체, 센스, 엣헴송, 졸귀, 귀염** 등이 있었습니다.   \n",
    "이를 통해 캐릭터 '펭수'의 다양한 ***끼*** 가 인기요인이라고 분석할 수 있습니다."
   ]
  },
  {
   "cell_type": "code",
   "execution_count": 28,
   "metadata": {},
   "outputs": [
    {
     "name": "stdout",
     "output_type": "stream",
     "text": [
      "[('펭', 0.6536253690719604), ('수가', 0.47681742906570435), ('우리', 0.4761340022087097), ('수야', 0.44528985023498535), ('때', 0.3738915026187897), ('사람', 0.3729681372642517), ('여러분', 0.3727737069129944), ('해', 0.37263917922973633), ('한국', 0.3647580146789551), ('펭펭', 0.3503337502479553), ('급', 0.347819447517395), ('상보', 0.3472985625267029), ('펭수야펭', 0.3470931649208069), ('영상', 0.3385764956474304), ('박', 0.33185091614723206), ('욧', 0.3300971984863281), ('오래오래', 0.32890447974205017), ('단무지', 0.3261915445327759), ('집중', 0.3215598464012146), ('오늘', 0.32146143913269043), ('귀', 0.3200378119945526), ('알로하', 0.32002419233322144), ('생활', 0.31702446937561035), ('겨울', 0.31457242369651794), ('반', 0.3133242726325989), ('수', 0.3132003843784332), ('펭랑해', 0.3100621998310089), ('땜', 0.30971699953079224), ('평생', 0.3096601366996765), ('혹시', 0.30759477615356445), ('수덕', 0.3069649338722229), ('펭하', 0.30658790469169617), ('구매', 0.3060603737831116), ('기여', 0.3059098422527313), ('이안', 0.30589109659194946), ('고생', 0.30537036061286926), ('수다', 0.304895281791687), ('택배', 0.30430155992507935), ('가', 0.302681565284729), ('음', 0.3021731674671173), ('팽수', 0.30152270197868347), ('사랑', 0.30065152049064636), ('모두', 0.30041298270225525), ('이원배', 0.29986804723739624), ('클럽', 0.2996986508369446), ('움', 0.2995604872703552), ('가왜', 0.29923975467681885), ('제작', 0.2991120219230652), ('건물', 0.29870572686195374), ('땐', 0.298541784286499), ('수도', 0.29810062050819397), ('감', 0.29801759123802185), ('수의', 0.2969001531600952), ('힘', 0.2967025339603424), ('범', 0.29605287313461304), ('꼭', 0.2959893047809601), ('전', 0.29505807161331177), ('애기', 0.2943955659866333), ('모자', 0.2933141887187958), ('게다', 0.2928536534309387), ('월', 0.29262372851371765), ('존재', 0.2916106879711151), ('꿀잼', 0.29064634442329407), ('행복', 0.29045435786247253), ('연습생', 0.2897465229034424), ('너', 0.2890898883342743), ('유', 0.2885769009590149), ('연기자', 0.28828972578048706), ('오', 0.2881318926811218), ('애', 0.2863955497741699), ('자꾸', 0.28498375415802), ('기분', 0.28414225578308105), ('지금', 0.28305986523628235), ('돈', 0.28200215101242065), ('방송', 0.281546413898468), ('거', 0.2803330719470978), ('일이', 0.27952873706817627), ('보고또보고', 0.27879106998443604), ('다른', 0.2787097096443176), ('수만', 0.27787333726882935), ('현피', 0.2772287428379059), ('여기', 0.2772151827812195), ('우주', 0.2742267847061157), ('촬영', 0.2727643549442291), ('놈', 0.27222150564193726), ('펭수는펭', 0.271980345249176), ('스위스', 0.2715943157672882), ('만해', 0.2705870270729065), ('펭수펭', 0.2697543501853943), ('원래', 0.26939260959625244), ('점점', 0.2690356969833374), ('예나', 0.26643726229667664), ('팽', 0.26632076501846313), ('뭔가', 0.2652760446071625), ('보', 0.26451757550239563), ('남', 0.2640007734298706), ('목소리', 0.2639842927455902), ('머', 0.2630932927131653), ('몸', 0.26279616355895996), ('어', 0.2627556324005127)]\n"
     ]
    }
   ],
   "source": [
    "print(embedding_model.wv.most_similar(positive=[\"펭수\"], topn=100))"
   ]
  },
  {
   "cell_type": "markdown",
   "metadata": {},
   "source": [
    "또한 ***펭수*** 키워드로 유사도 높은 키워드를 출력하니 **펭, 펭랑해, 펭하, 펭러뷰, 펭펭** 등 '펭수'를 조합한 여러 신조어들이 생겨나고 있음을 알 수 있습니다."
   ]
  },
  {
   "cell_type": "markdown",
   "metadata": {},
   "source": [
    "#### 군집분석"
   ]
  },
  {
   "cell_type": "code",
   "execution_count": 39,
   "metadata": {},
   "outputs": [],
   "source": [
    "from sklearn.cluster import KMeans"
   ]
  },
  {
   "cell_type": "code",
   "execution_count": 52,
   "metadata": {},
   "outputs": [
    {
     "data": {
      "text/plain": [
       "array([ 1,  1, 16,  9,  1,  1,  4,  9,  1,  1,  4,  1,  9,  7,  1,  1,  1,\n",
       "       11,  0,  7,  1,  9,  1, 12,  7, 11, 16, 16, 19,  4, 17, 19,  7, 10,\n",
       "       10,  7,  1, 16,  9,  3, 10,  1,  7,  3, 16,  9,  1,  1,  1, 11,  0,\n",
       "       12,  8,  4,  1,  2,  9, 10,  9,  2,  9, 19,  6,  1,  8,  7,  1,  9,\n",
       "        4,  1, 19,  2,  3,  8,  1,  8,  2,  6,  1,  2, 11,  1,  4,  1,  4,\n",
       "        1,  1,  1,  5, 11,  1,  4, 17,  1,  9,  1, 16, 10,  3,  1,  3,  7,\n",
       "        1,  9, 17,  1,  1, 19,  1,  7,  1,  3,  1,  2,  2,  9,  7,  5,  1,\n",
       "       10,  8,  0,  8,  9, 16, 10,  1, 19,  0,  4, 17,  1,  7,  4,  9, 16,\n",
       "        1, 11,  7, 17, 15, 10, 19, 19,  7,  1,  1,  9, 16, 10, 19,  1,  5,\n",
       "        6, 19,  1,  7,  9,  9, 10,  6,  5,  9,  1, 16,  4,  1, 16,  1,  9,\n",
       "        9,  1,  2,  5,  7, 17, 10,  7, 11,  0,  1, 11,  9, 10,  2, 16, 13,\n",
       "       19,  5,  9,  5,  1, 19,  2, 17,  1,  6, 10,  1,  0, 10, 15,  6,  7,\n",
       "        7,  2, 10,  4,  1, 10,  2,  1, 10, 19, 10, 19,  1,  1,  4,  1, 12,\n",
       "       10, 17,  0,  1,  0,  4, 17,  7,  1,  1,  7,  0,  5,  7,  9,  1, 11,\n",
       "       10, 11,  6, 11,  0, 17,  3,  1, 10, 17, 11,  9, 17,  1,  2,  2,  1,\n",
       "        9,  7,  3,  3, 11,  1,  7,  1,  2,  5,  4,  1,  2,  3,  4,  9, 11,\n",
       "       17,  5, 17,  1,  1,  1, 10,  1, 17, 19,  0,  1, 12, 11,  7, 15,  1,\n",
       "        3,  1,  8, 12,  1,  9, 17, 19,  4,  1, 11, 16,  7,  8, 19,  1, 18,\n",
       "        1, 19, 10,  9,  7, 10,  1, 16,  7,  8,  1,  1,  1,  4,  2, 17, 16,\n",
       "        4,  5,  2, 16,  1, 11,  1,  4, 17,  7,  9, 16, 13, 13,  3, 16,  8,\n",
       "       11, 11,  6,  3,  1,  9, 11,  7,  1,  0, 12, 16,  9, 16,  1, 11, 15,\n",
       "        1,  4,  3,  1, 16,  1,  7, 16,  1, 16, 17,  4,  9, 18, 11, 19,  1,\n",
       "        2,  4, 19, 16, 16,  1,  9,  8,  8,  1, 10,  1,  3,  4,  5, 10,  1,\n",
       "        3,  7,  1,  4,  1,  4,  2,  3,  4,  1,  4,  1, 10,  1, 17,  3, 16,\n",
       "        4,  4,  7,  0, 13, 16,  1, 17,  1,  2, 11,  0,  1,  5, 10, 16,  2,\n",
       "        4,  2, 11,  1,  3,  0, 10, 13,  1,  0,  7,  7, 19, 19,  7,  1,  1,\n",
       "        7, 10,  1, 10,  9,  5,  8,  1,  4,  0, 14,  0, 17, 15,  1, 19, 10,\n",
       "       19,  0, 19, 11,  7, 19,  9,  4, 10,  4,  3, 19,  7,  4,  7, 10,  4,\n",
       "       13, 13, 17,  4,  7, 10,  4,  2,  7,  4, 10,  4,  2,  1,  0,  1,  6,\n",
       "       19, 11,  9,  1,  1, 13,  1,  1, 19,  7,  1,  3,  8, 10,  4, 15, 19,\n",
       "       10,  4, 15, 17,  3,  4, 16,  9, 19,  1, 19, 10,  4,  6,  2,  4, 11,\n",
       "        1,  3,  2,  3,  1,  1,  9, 10,  4, 10, 11,  8, 15,  4, 17, 14,  4,\n",
       "        9, 11,  1,  4, 10,  9, 16,  1, 19, 11,  4,  1,  1,  1,  8,  7,  1,\n",
       "        1,  9, 10,  1,  6, 19,  7,  5,  1,  2, 19,  7, 17, 16,  1, 15, 10,\n",
       "       17,  2,  2,  1, 17, 19,  7, 17, 10,  7, 19,  1,  4,  2,  5,  7, 10,\n",
       "        4, 10,  7,  4,  1, 19,  1, 11, 15, 16, 10,  3, 10, 11,  0, 17,  7,\n",
       "        7,  1,  1,  8, 15,  1,  1,  7,  1, 15,  4,  7,  8,  7, 19, 10, 10,\n",
       "       11, 11,  3,  4,  4,  0,  4, 17, 11, 17, 11, 16,  1,  7, 10, 17,  7],\n",
       "      dtype=int32)"
      ]
     },
     "execution_count": 52,
     "metadata": {},
     "output_type": "execute_result"
    }
   ],
   "source": [
    "embedding_model.wv.syn0.shape #w2v size\n",
    "\n",
    "#100차원으로 벡터화된 수치를 넣어줌\n",
    "word_vectors = embedding_model.wv.syn0\n",
    "\n",
    "num_clusters = 20 #cluster의 갯수 산정\n",
    "kmeans_clustering = KMeans( n_clusters = num_clusters )#default\n",
    "\n",
    "idx = kmeans_clustering.fit_predict( word_vectors ) #각 단어가 어떤 군집에 속하는지 확인\n",
    "idx"
   ]
  },
  {
   "cell_type": "code",
   "execution_count": 53,
   "metadata": {},
   "outputs": [],
   "source": [
    "# 각 어휘 단어를 클러스터 번호에 매핑되게 word/Index 사전을 만든다.\n",
    "idx = list(idx)\n",
    "names = embedding_model.wv.index2word #학습된 단어들 unique\n",
    "word_centroid_map = {names[i]: idx[i] for i in range(len(names))}#각 단어 별로 클러스터 번호에 매칭"
   ]
  },
  {
   "cell_type": "code",
   "execution_count": 54,
   "metadata": {},
   "outputs": [
    {
     "name": "stdout",
     "output_type": "stream",
     "text": [
      "['펭', '펭수', '뚝딱', '진짜', '수야', '해', '펭귄', '때', '우리', '수가', '사람', '사랑', '거', '왜', '영상', '보고', '너', '말', '번개', '목소리', '오늘', '더', '나', '매니저', '뭐', '정말', '지금', '친구', '여기', '생각', '구독', '북극곰', '헤드셋', '팽', '살', '기자', '요즘', '아빠', '무', '진', '김명중', '굿', '노래', '웃기', '뿡뿡이', '안', '집', '수의', '처음', '이번', '맨', '피디', '참치', '인형', '또', '웃음', '좀', '사장', '눈', '편', '역시', '뽀로로', '배', '항상', '보건복지부', '이유', '수', '어른', '분', '마음', '개', '티비', '요', '건강', '이제', '장관', '계속', '독자', '댓글', '애', '것', '야사', '게', '데', '누가', '알', '내', '자이언트', '워', '수도', '모습', '저', '달', '꼭', '팬', '못', '유치원', '보', '최고', '때문', '제작', '머리', '앞', '매력', '이비에스', '펭펭', '하루', '남극', '한번', '얼굴', '힐링', '바', '를', '대박', '세상', '케', '뒤', '표정', '뷰', '팽수', '퇴근', '컨셉', '직원', '완전', '선배', '선생님', '도', '오디션', '캐릭터', '어린이', '제발', '다음', '그냥', '탈', '말투', '댕', '언제', '마지막', '춤', '옷', '연기', '학교', '스위스', '시작', '날개', '동년배', '유튜브', '움', '눈물', '나이', '욬', '화이팅', '애기', '퇴사', '광고', '회사', '자꾸', '실', '위', '덕분', '썸네일', '닼', '진심', '넌', '틀', '전문가', '화보', '딩', '널', '곳', '소품', '한국', '번', '손', '자', '축하', '제일', '자막', '걸', '채널', '일', '하나', '방송', '인기', '이름', '추억', '심피', '요들송', '볼때', '누구', '고생', '시간', '엌', '임', '이모티콘', '살이', '이원배', '벌써', '잡지', '넼', '입덕', '아저씨', '제목', '사탕', '소리', '레전드', '포스코', '제', '기분', '줄', '다시', '혹시', '걱정', '앜', '아이', '뎈', '응원', '사진', '펭수는펭', '힘', '박재영', '함', '중', '홍채', '엄마', '몇번', '건가', '새집', '브금', '어디', '늘', '웃', '꼰', '졸귀', '마사지', '펭수펭', '매일', '위로', '정도', '도안', '꾹', '편집', '장터', '스타', '교육방송', '날', '와중', '쿠션', '이야기', '갑자기', '듯', '펭하', '재미', '현실', '여러분', '최애', '부분', '느낌', '해펭', '센스', '펭러', '이나', '니', '주사', '발', '팽귄', '얼마나', '포인트', '왜케', '악플', '촬영', '자체', '눈알', '다리', '집들이', '나일론', '클럽', '바로', '사실', '만', '님', '헤엄', '출연', '몸', '이슬', '얘기', '엣헴송', '모자', '수영', '뭔가', '로', '제비', '예나', '그거', '길', '가요', '드립', '이', '행복', '혼자', '옛날', '리믹스', '롱맨', '미역', '동심', '면접', '후', '곸', '고', '가왜', '재', '교육', '모델', '라떼', '질라', '회의', '어제', '오래오래', '면서', '엑스레이', '이편', '수집', '기억', '난', '심장', '에피소드', '그때', '돈', '인생', '가나', '신분', '보기', '프로', '맘', '아침', '알로하', '훌라', '감', '시절', '별명', '그대로', '감동', '에피', '위해', '수나', '끼', '준비', '영', '아웃', '좌', '폴댄스', '아버님', '거리', '전설', '동영상', '무기', '쌤', '하자', '수다', '테', '수로', '만이', '구', '중간', '세대', '수능', '초등학교', '가지', '대통령', '수하', '패기', '끝', '무엇', '옆', '연출', '수라', '얔', '기전', '뎅', '덕질', '침대', '홍보', '차관', '여', '유', '다이어리', '약', '글', '웡', '전', '수덕', '세계관', '박', '야우리', '해도', '곧', '거기', '편이', '동물병원', '박사', '품절', '대체', '선물', '수만', '삶', '용', '컨텐츠', '금은', '월', '본체', '감독', '콜라보', '저리', '아버지', '볼', '세', '의', '웃곀', '존재', '형', '란', '기여', '프로그램', '젠', '정', '본인', '순간', '자기', '모두', '평가', '등장', '검정', '나가요', '관심', '인씨', '강손', '뽕뽕', '닠', '바다', '존나', '다가', '넹', '입', '의심', '습', '얼마', '우주', '패션', '스트', '가족', '배우', '눈치', '현피', '자주', '드', '수의사', '점점', '양치', '인', '단무지', '중고나라', '랩', '잘못', '무도', '가든', '연습생', '실제', '명', '성우', '예능', '보고또보고', '스', '성대모사', '신발', '봄', '논란', '욧', '미스터', '영어', '인정', '뭘', '햇', '도움', '장면', '중독', '안보', '일이', '행동', '젤', '평생', '수구', '사회', '개월', '김밥', '조금', '가장', '서울', '본방', '몽키', '상처', '달라', '목표', '음악', '우울증', '겨', '복지', '여름', '놈', '스티커', '장성규', '아들', '보이', '의사', '안녕', '심', '여자', '이보', '가', '조개', '겨울', '한국어', '땜', '당신', '욤', '주행', '대해', '부터', '려고', '급', '음', '스윗', '행', '펭수야펭', '그', '인간', '이상', '건물', '관리', '국민', '노랑', '남', '설정', '구매', '뼈', '거너', '기획', '나중', '네', '공부', '원래', '꿈', '치', '범', '안해', '씨', '문제', '다행', '여연희', '체조', '도대체', '속', '포기', '월드', '와우', '기', '칭찬', '햌', '번은', '귀', '만해', '반복', '누', '때펭', '자수', '땐', '내년', '연기자', '게다', '방송국', '역대', '직장인', '김장', '시계', '랰', '디', '그것', '오', '라면', '물', '터', '직접', '아기', '짱', '뻔', '반', '금', '귀요미', '척', '머', '상보', '김민교', '생활', '그동안', '뽀뽀', '학년', '리', '어', '집중', '다른', '짓', '숙소', '비트박스', '어깨', '신경', '곰', '보건소', '택배', '꿀잼', '우리나라', '의자', '연락', '폰', '을해', '옄', '트', '귀염', '맛', '펭랑해', '이안', '주', '아주', '한마디', '수안', '상황', '옴', '정체', '저기', '잠', '인터뷰', '엔딩', '부모님', '동생', '마늘', '캔', '로비', '당첨']\n"
     ]
    }
   ],
   "source": [
    "print(names)"
   ]
  },
  {
   "cell_type": "code",
   "execution_count": 55,
   "metadata": {},
   "outputs": [
    {
     "name": "stdout",
     "output_type": "stream",
     "text": [
      "\n",
      "Cluster 0\n",
      "['번개', '맨', '컨셉', '캐릭터', '채널', '넼', '홍채', '몇번', '꼰', '장터', '출연', '좌', '콜라보', '형', '등장', '인씨', '눈치', '자주', '중고나라', '수구', '짓', '옴']\n",
      "\n",
      "Cluster 1\n",
      "['펭', '펭수', '수야', '해', '우리', '수가', '사랑', '영상', '보고', '너', '오늘', '나', '요즘', '굿', '집', '수의', '처음', '또', '항상', '수', '마음', '이제', '댓글', '야사', '데', '알', '내', '자이언트', '모습', '꼭', '못', '때문', '앞', '펭펭', '하루', '한번', '힐링', '를', '뷰', '도', '다음', '언제', '동년배', '유튜브', '화이팅', '회사', '넌', '화보', '널', '한국', '일', '시간', '살이', '잡지', '기분', '혹시', '응원', '사진', '힘', '엄마', '어디', '늘', '매일', '날', '펭하', '여러분', '펭러', '니', '얼마나', '나일론', '클럽', '바로', '만', '몸', '수영', '로', '그거', '행복', '동심', '후', '모델', '어제', '오래오래', '면서', '돈', '가나', '수나', '아웃', '동영상', '하자', '수로', '구', '수능', '옆', '덕질', '여', '다이어리', '수덕', '야우리', '곧', '품절', '선물', '삶', '볼', '의', '란', '모두', '관심', '다가', '넹', '습', '가족', '점점', '평생', '사회', '서울', '본방', '상처', '달라', '우울증', '겨울', '려고', '행', '펭수야펭', '나중', '치', '문제', '다행', '여연희', '속', '포기', '기', '만해', '내년', '김장', '터', '상보', '생활', '신경', '곰', '꿀잼', '우리나라', '연락', '동생']\n",
      "\n",
      "Cluster 2\n",
      "['웃음', '편', '티비', '계속', '애', '대박', '세상', '번', '이름', '임', '레전드', '다시', '재미', '현실', '주사', '포인트', '이편', '에피소드', '연출', '편이', '웃곀', '정', '순간', '장면', '젤', '주행', '음', '반복', '역대', '직장인', '아기']\n",
      "\n",
      "Cluster 3\n",
      "['진', '웃기', '요', '최고', '제작', '바', '교육방송', '느낌', '해펭', '왜케', '뭔가', '감', '위해', '테', '약', '세계관', '동물병원', '컨텐츠', '평가', '예능', '겨', '심', '급', '스윗', '어', '한마디']\n",
      "\n",
      "Cluster 4\n",
      "['펭귄', '사람', '생각', '인형', '분', '게', '누가', '저', '어린이', '탈', '전문가', '제', '펭수는펭', '건가', '팽귄', '악플', '이', '엑스레이', '난', '신분', '수다', '대통령', '수라', '글', '해도', '거기', '박사', '대체', '월', '본체', '본인', '배우', '실제', '성우', '성대모사', '논란', '인정', '도움', '안보', '행동', '놈', '보이', '여자', '당신', '대해', '이상', '남', '뼈', '네', '씨', '직접', '금', '머', '을해', '수안', '상황', '정체']\n",
      "\n",
      "Cluster 5\n",
      "['워', '표정', '애기', '닼', '손', '볼때', '고생', '졸귀', '발', '다리', '심장', '웡', '기여', '패션', '귀', '짱']\n",
      "\n",
      "Cluster 6\n",
      "['배', '독자', '퇴사', '썸네일', '이원배', '제목', '꾹', '에피', '개월', '욤', '칭찬']\n",
      "\n",
      "Cluster 7\n",
      "['왜', '목소리', '뭐', '헤드셋', '기자', '노래', '이유', '머리', '얼굴', '뒤', '그냥', '춤', '날개', '자꾸', '자', '자막', '사탕', '소리', '브금', '웃', '마사지', '부분', '이나', '엣헴송', '리믹스', '재', '질라', '프로', '영', '중간', '박', '감독', '강손', '뽕뽕', '존나', '입', '무도', '스', '신발', '뭘', '중독', '음악', '도대체', '번은', '때펭', '디', '라면', '뻔', '척', '비트박스', '어깨', '의자', '옄', '귀염', '마늘', '당첨']\n",
      "\n",
      "Cluster 8\n",
      "['참치', '보건복지부', '건강', '장관', '퇴근', '직원', '제비', '롱맨', '회의', '별명', '홍보', '차관', '스트', '복지', '국민', '체조', '보건소', '트']\n",
      "\n",
      "Cluster 9\n",
      "['진짜', '때', '거', '더', '무', '안', '좀', '눈', '역시', '어른', '팬', '매력', '케', '완전', '말투', '움', '실', '위', '진심', '곳', '소품', '방송', '누구', '펭수펭', '갑자기', '최애', '촬영', '길', '가왜', '맘', '끼', '거리', '수하', '침대', '우주', '연습생', '가장', '가', '그', '거너', '원래', '월드']\n",
      "\n",
      "Cluster 10\n",
      "['팽', '살', '김명중', '사장', '보', '팽수', '선생님', '학교', '나이', '덕분', '제일', '인기', '벌써', '입덕', '포스코', '줄', '걱정', '아이', '함', '정도', '와중', '사실', '고', '교육', '유', '전', '수만', '프로그램', '검정', '의심', '얼마', '인', '명', '봄', '햇', '일이', '여름', '아들', '땜', '인간', '건물', '공부', '와우', '게다', '오', '반', '귀요미', '리', '집중', '펭랑해', '이안', '캔']\n",
      "\n",
      "Cluster 11\n",
      "['말', '정말', '이번', '것', '수도', '마지막', '걸', '하나', '위로', '도안', '편집', '이야기', '센스', '자체', '얘기', '혼자', '인생', '그대로', '감동', '준비', '무기', '끝', '존재', '자기', '잘못', '조금', '부터', '관리', '기획', '안해', '그동안', '다른', '주', '아주', '잠', '엔딩']\n",
      "\n",
      "Cluster 12\n",
      "['매니저', '피디', '박재영', '이슬', '예나', '폴댄스']\n",
      "\n",
      "Cluster 13\n",
      "['심피', '알로하', '훌라', '저리', '나가요', '욧', '미스터', '몽키']\n",
      "\n",
      "Cluster 14\n",
      "['현피', '구매']\n",
      "\n",
      "Cluster 15\n",
      "['연기', '아저씨', '모자', '쌤', '수의사', '스티커', '의사', '노랑', '연기자', '뽀뽀', '택배', '폰']\n",
      "\n",
      "Cluster 16\n",
      "['뚝딱', '지금', '친구', '아빠', '뿡뿡이', '유치원', '선배', '댕', '눈물', '틀', '딩', '추억', '옛날', '라떼', '기억', '그때', '아침', '시절', '아버님', '전설', '만이', '세대', '초등학교', '기전', '뎅', '금은', '아버지', '젠', '이보', '꿈', '땐', '학년', '부모님']\n",
      "\n",
      "Cluster 17\n",
      "['구독', '달', '이비에스', '제발', '옷', '축하', '이모티콘', '중', '새집', '스타', '쿠션', '듯', '눈알', '집들이', '님', '가요', '수집', '보기', '가지', '용', '세', '드', '영어', '안녕', '설정', '자수', '방송국', '시계', '그것', '숙소', '저기', '인터뷰', '로비']\n",
      "\n",
      "Cluster 18\n",
      "['면접', '패기']\n",
      "\n",
      "Cluster 19\n",
      "['여기', '북극곰', '뽀로로', '개', '남극', '오디션', '스위스', '시작', '욬', '광고', '요들송', '엌', '앜', '뎈', '헤엄', '드립', '미역', '곸', '무엇', '얔', '닠', '바다', '양치', '단무지', '랩', '가든', '보고또보고', '김밥', '목표', '장성규', '조개', '한국어', '범', '햌', '누', '랰', '물', '김민교', '맛']\n"
     ]
    }
   ],
   "source": [
    "for cluster in range(0,20):\n",
    "    # 클러스터 번호를 출력\n",
    "    print(\"\\nCluster {}\".format(cluster))\n",
    "    \n",
    "    # 클러스터번호와 클러스터에 있는 단어를 찍는다.\n",
    "    words = []\n",
    "    for i in range(0,len(list(word_centroid_map.values()))): #list(dict)키 값만 리스트로 반환\n",
    "        #list(dict.values)는 value값이 리스트로 반환\n",
    "        if( list(word_centroid_map.values())[i] == cluster ):\n",
    "            words.append(list(word_centroid_map.keys())[i])\n",
    "    print(words)"
   ]
  },
  {
   "cell_type": "markdown",
   "metadata": {},
   "source": [
    "유사도 벡터공간 밀집정도로 군집분석 결과 20개 cluster로 설정했을 때 위와 같았습니다.  "
   ]
  },
  {
   "cell_type": "markdown",
   "metadata": {},
   "source": [
    "### Plotly 이용한 시각화"
   ]
  },
  {
   "cell_type": "code",
   "execution_count": 56,
   "metadata": {},
   "outputs": [],
   "source": [
    "import numpy as np\n",
    "import chart_studio\n",
    "#Plotly의 chart studio API 사용\n",
    "chart_studio.tools.set_credentials_file(username='DevLuce', api_key='e29IlCxh2VReZSqlCVyw')\n",
    "\n",
    "from sklearn.manifold import TSNE\n",
    "\n",
    "import chart_studio.plotly as py\n",
    "import plotly.graph_objs as go"
   ]
  },
  {
   "cell_type": "code",
   "execution_count": 57,
   "metadata": {},
   "outputs": [],
   "source": [
    "X = np.array([embedding_model.wv.get_vector(word) for word in embedding_model.wv.vocab.keys()])\n",
    "voca = list(embedding_model.wv.vocab.keys())\n",
    "X_embeded = TSNE(n_components=2).fit_transform(X)"
   ]
  },
  {
   "cell_type": "code",
   "execution_count": 58,
   "metadata": {
    "scrolled": false
   },
   "outputs": [
    {
     "data": {
      "text/html": [
       "\n",
       "        <iframe\n",
       "            width=\"100%\"\n",
       "            height=\"525px\"\n",
       "            src=\"https://plot.ly/~DevLuce/1.embed\"\n",
       "            frameborder=\"0\"\n",
       "            allowfullscreen\n",
       "        ></iframe>\n",
       "        "
      ],
      "text/plain": [
       "<IPython.lib.display.IFrame at 0x12d805350>"
      ]
     },
     "execution_count": 58,
     "metadata": {},
     "output_type": "execute_result"
    }
   ],
   "source": [
    "trace2 = go.Scatter(\n",
    "    x=[x for x, y in X_embeded],\n",
    "    y=[y for x, y in X_embeded],\n",
    "    mode='markers+text',\n",
    "    name='Markers and Text',\n",
    "    text=voca,\n",
    "    textposition='bottom center'\n",
    ")\n",
    "\n",
    "data = [trace2]\n",
    "layout = go.Layout(\n",
    "    showlegend=False\n",
    ")\n",
    "\n",
    "fig = go.Figure(data=data, layout=layout)\n",
    "py.iplot(fig, filename='text-chart-basic')"
   ]
  },
  {
   "cell_type": "markdown",
   "metadata": {},
   "source": [
    "**t-SNE** 알고리즘을 이용하여 2차원 공간으로 임베딩 시키고 **Plotly의 Chart Studio API**를 이용하여 시각화 하였습니다.  \n",
    "확대, 축소, 이동을 통해 비슷한 맥락 단어들을 확인하고 분석할 수 있습니다."
   ]
  },
  {
   "cell_type": "markdown",
   "metadata": {},
   "source": [
    "## 정리"
   ]
  },
  {
   "cell_type": "markdown",
   "metadata": {},
   "source": [
    "**유튜브 '자이언트 펭tv'** 채널에서 상위 10개 인기 동영상에 있는 댓글 데이터를 크롤링하여 분석하였습니다.  \n",
    "우선 댓글 데이터를 명사 키워드로 토크나이징하여 데이터 전처리를 하였고  \n",
    "단어 빈도수에 따라 **막대그래프**와 **WordCloud**로 시각화하고 분석하였습니다.  \n",
    "또한 **Word2vec**을 통해 키워드들을 벡터화 시키고 단어 유사도와 군집도를 분석하였습니다.\n",
    "마지막으로 **Plotly** API를 이용하여 2차원 벡터 공간을 더욱 가시성을 높여 시각화 하였습니다.\n",
    "\n",
    "이로써 캐릭터 '펭수'의 인기 요인이 무엇인지 키워드를 중심으로 분석하고 신규 혹은 다른 캐릭터들에게 ***시사점***을 던져 줄 수 있는 분석이 되었습니다."
   ]
  }
 ],
 "metadata": {
  "kernelspec": {
   "display_name": "Python 3",
   "language": "python",
   "name": "python3"
  },
  "language_info": {
   "codemirror_mode": {
    "name": "ipython",
    "version": 3
   },
   "file_extension": ".py",
   "mimetype": "text/x-python",
   "name": "python",
   "nbconvert_exporter": "python",
   "pygments_lexer": "ipython3",
   "version": "3.7.4"
  }
 },
 "nbformat": 4,
 "nbformat_minor": 2
}
